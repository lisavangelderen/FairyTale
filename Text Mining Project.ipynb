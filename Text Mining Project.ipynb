{
 "cells": [
  {
   "cell_type": "code",
   "execution_count": 6,
   "metadata": {},
   "outputs": [],
   "source": [
    "import os\n",
    "import glob\n",
    "\n",
    "# appends to file_list all files inside the particular folder given below that end with \".txt\"\n",
    "file_list = []\n",
    "for file_name in glob.iglob(\"/Users/Alexia/FairyTale/data/**/*.txt\", recursive=True):\n",
    "    file_list.append(file_name)\n",
    "\n",
    "# appends each line of each story to story_list\n",
    "story_list = []\n",
    "for file in file_list:\n",
    "    with open(file, \"r\", encoding='UTF-8') as story:\n",
    "        lines = story.readlines()\n",
    "        story_list.append(lines)\n",
    "    \n",
    "\n",
    "\n",
    "        \n",
    "\n",
    "   \n",
    " "
   ]
  },
  {
   "cell_type": "code",
   "execution_count": 7,
   "metadata": {},
   "outputs": [],
   "source": [
    "# removes the first, not letmmatized, instance of each token\n",
    "trimmed_story_list = []\n",
    "for sentence in story_list:\n",
    "    for token in sentence:\n",
    "        if \"-->\" in token:\n",
    "            split_token = token.split(\"-->\", 1)\n",
    "            trimmed_story_list.append(split_token[1])\n",
    "        else:\n",
    "            continue\n",
    "\n",
    "\n",
    "\n",
    "    "
   ]
  },
  {
   "cell_type": "code",
   "execution_count": 8,
   "metadata": {},
   "outputs": [],
   "source": [
    "# removes \"/n\" from the end of each token\n",
    "cleaned_list = []\n",
    "for item in trimmed_story_list:\n",
    "    new_item = item[:-1]\n",
    "    cleaned_list.append(new_item)\n",
    "\n"
   ]
  },
  {
   "cell_type": "code",
   "execution_count": null,
   "metadata": {},
   "outputs": [],
   "source": []
  },
  {
   "cell_type": "code",
   "execution_count": 9,
   "metadata": {},
   "outputs": [],
   "source": [
    "# adds only relevant tokens to filtered_list: removes tokens that are not word, as well as words irrelevant to our \n",
    "# study (such as determinants)\n",
    "filtered_list=[]\n",
    "for item in cleaned_list:\n",
    "    if item.startswith((\" .\", \" ,\", \" /\", \" :\", \" ;\", \" '\", \" `\", \" NNP\", \" ?\", \" !\", \" -\")): #numbers? cd\n",
    "        continue\n",
    "    elif item.endswith((\"CC\", \"IN\", \"DT\")):\n",
    "        continue\n",
    "    else:\n",
    "        filtered_list.append(item)\n",
    "        \n",
    "    "
   ]
  },
  {
   "cell_type": "code",
   "execution_count": null,
   "metadata": {},
   "outputs": [],
   "source": [
    "\n"
   ]
  },
  {
   "cell_type": "code",
   "execution_count": null,
   "metadata": {},
   "outputs": [],
   "source": []
  }
 ],
 "metadata": {
  "kernelspec": {
   "display_name": "Python 3",
   "language": "python",
   "name": "python3"
  },
  "language_info": {
   "codemirror_mode": {
    "name": "ipython",
    "version": 3
   },
   "file_extension": ".py",
   "mimetype": "text/x-python",
   "name": "python",
   "nbconvert_exporter": "python",
   "pygments_lexer": "ipython3",
   "version": "3.7.4"
  }
 },
 "nbformat": 4,
 "nbformat_minor": 2
}
