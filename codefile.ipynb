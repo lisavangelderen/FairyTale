{
 "cells": [
  {
   "cell_type": "markdown",
   "metadata": {},
   "source": [
    "# Preprocessing"
   ]
  },
  {
   "cell_type": "markdown",
   "metadata": {},
   "source": [
    "Before starting the analysis part of the project, a little preprocessing has to be done. To start, we create a list with all the stories in it. Next we take apart each token to save only the lemmatized token, and remove unnecessary tokens (such as \"/n\" or punctuation). "
   ]
  },
  {
   "cell_type": "code",
   "execution_count": 1,
   "metadata": {},
   "outputs": [],
   "source": [
    "import os\n",
    "import glob\n",
    "\n",
    "# appends to file_list all files inside the particular folder given below that end with \".txt\"\n",
    "file_list = []\n",
    "for file_name in glob.iglob(\"data/**/*.txt\", recursive=True):\n",
    "    file_list.append(file_name)\n",
    "\n",
    "# appends each line of each story to story_list\n",
    "story_list = []\n",
    "for file in file_list:\n",
    "    with open(file, \"r\", encoding='UTF-8') as story:\n",
    "        lines = story.readlines()\n",
    "        story_list.append(lines)  "
   ]
  },
  {
   "cell_type": "code",
   "execution_count": 2,
   "metadata": {},
   "outputs": [
    {
     "data": {
      "text/plain": [
       "['data/cluster083/253635663-THE-FARMYARD-COCK-AND-THE-WEATHERCOCK-H-C-Andersen.txt',\n",
       " 'data/cluster083/384500260-THE-BUTTERFLY-H-C-Andersen.txt',\n",
       " 'data/cluster083/798449202-The-Three-Languages-Brothers-Grimm.txt',\n",
       " 'data/cluster083/477325002-TWENTY-THIRD-EVENING-H-C-Andersen.txt',\n",
       " 'data/cluster083/c235.txt']"
      ]
     },
     "execution_count": 2,
     "metadata": {},
     "output_type": "execute_result"
    }
   ],
   "source": [
    "file_list[:5]"
   ]
  },
  {
   "cell_type": "code",
   "execution_count": 3,
   "metadata": {},
   "outputs": [
    {
     "data": {
      "text/plain": [
       "['<title>/IN --> IN/IN\\n',\n",
       " 'THE/DT --> the/DT\\n',\n",
       " 'FARMYARD/NNP --> FARMYARD/NNP\\n',\n",
       " 'COCK/NNP --> COCK/NNP\\n',\n",
       " 'AND/CC --> and/CC\\n',\n",
       " 'THE/DT --> the/DT\\n',\n",
       " 'WEATHERCOCK/NNP --> WEATHERCOCK/NNP\\n',\n",
       " './. --> ./.\\n',\n",
       " '</title>/NNP --> NNP/NNP\\n',\n",
       " '<author>/NNP --> NNP/NNP\\n']"
      ]
     },
     "execution_count": 3,
     "metadata": {},
     "output_type": "execute_result"
    }
   ],
   "source": [
    "story_list[0][:10]"
   ]
  },
  {
   "cell_type": "code",
   "execution_count": 4,
   "metadata": {},
   "outputs": [],
   "source": [
    "# removes the first, not letmmatized, instance of each token, and lowercase everything\n",
    "trimmed_story_list = []\n",
    "for sentence in story_list:\n",
    "    for token in sentence:\n",
    "        if \"-->\" in token:\n",
    "            split_token = token.split(\"-->\", 1)[1]\n",
    "            split_token = split_token.lower()\n",
    "            trimmed_story_list.append(split_token)\n",
    "        else:\n",
    "            continue"
   ]
  },
  {
   "cell_type": "code",
   "execution_count": 5,
   "metadata": {},
   "outputs": [
    {
     "data": {
      "text/plain": [
       "' in/in\\n'"
      ]
     },
     "execution_count": 5,
     "metadata": {},
     "output_type": "execute_result"
    }
   ],
   "source": [
    "trimmed_story_list[0]"
   ]
  },
  {
   "cell_type": "code",
   "execution_count": 6,
   "metadata": {},
   "outputs": [],
   "source": [
    "# removes \"/n\" from the end of each token\n",
    "cleaned_list = []\n",
    "for item in trimmed_story_list:\n",
    "    new_item = item[:-1]\n",
    "    cleaned_list.append(new_item)"
   ]
  },
  {
   "cell_type": "code",
   "execution_count": 7,
   "metadata": {},
   "outputs": [
    {
     "data": {
      "text/plain": [
       "[' in/in',\n",
       " ' the/dt',\n",
       " ' farmyard/nnp',\n",
       " ' cock/nnp',\n",
       " ' and/cc',\n",
       " ' the/dt',\n",
       " ' weathercock/nnp',\n",
       " ' ./.',\n",
       " ' nnp/nnp',\n",
       " ' nnp/nnp']"
      ]
     },
     "execution_count": 7,
     "metadata": {},
     "output_type": "execute_result"
    }
   ],
   "source": [
    "cleaned_list[:10]"
   ]
  },
  {
   "cell_type": "code",
   "execution_count": 8,
   "metadata": {},
   "outputs": [],
   "source": [
    "# adds only relevant tokens to filtered_list: removes tokens that are not word, as well as words irrelevant to our \n",
    "# study (such as determinants)\n",
    "filtered_list=[]\n",
    "for item in cleaned_list:\n",
    "    if item.startswith((\" .\", \" ,\", \" /\", \" :\", \" ;\", \" '\", \" `\", \" NNP\", \" ?\", \" !\", \" -\")): #numbers? cd\n",
    "        continue\n",
    "    elif item.endswith((\"CC\", \"IN\", \"DT\")):\n",
    "        continue\n",
    "    else:\n",
    "        filtered_list.append(item.lstrip())"
   ]
  },
  {
   "cell_type": "code",
   "execution_count": 9,
   "metadata": {},
   "outputs": [
    {
     "data": {
      "text/plain": [
       "['in/in',\n",
       " 'the/dt',\n",
       " 'farmyard/nnp',\n",
       " 'cock/nnp',\n",
       " 'and/cc',\n",
       " 'the/dt',\n",
       " 'weathercock/nnp',\n",
       " 'nnp/nnp',\n",
       " 'nnp/nnp',\n",
       " 'h./nnp']"
      ]
     },
     "execution_count": 9,
     "metadata": {},
     "output_type": "execute_result"
    }
   ],
   "source": [
    "filtered_list[:10]"
   ]
  },
  {
   "cell_type": "markdown",
   "metadata": {},
   "source": [
    "# Data Exploration"
   ]
  },
  {
   "cell_type": "markdown",
   "metadata": {},
   "source": [
    "Now we can move on the explore the data. To do so, we'll take a look at the stories themselves and what we can tell from the data before training any model on it."
   ]
  },
  {
   "cell_type": "markdown",
   "metadata": {},
   "source": [
    "We start by looking at the most frequent and least frequent words. "
   ]
  },
  {
   "cell_type": "code",
   "execution_count": 10,
   "metadata": {},
   "outputs": [
    {
     "data": {
      "text/plain": [
       "[('the/dt', 527751),\n",
       " ('and/cc', 370678),\n",
       " ('he/prp', 220124),\n",
       " ('to/to', 217260),\n",
       " ('a/dt', 158565)]"
      ]
     },
     "execution_count": 10,
     "metadata": {},
     "output_type": "execute_result"
    }
   ],
   "source": [
    "from nltk.probability import FreqDist\n",
    "frequency_dist = FreqDist(filtered_list)\n",
    "frequency_dist.most_common(5)"
   ]
  },
  {
   "cell_type": "code",
   "execution_count": 11,
   "metadata": {},
   "outputs": [
    {
     "data": {
      "text/plain": [
       "[('straw/vbd', 1),\n",
       " ('stranger/vbz', 1),\n",
       " ('door-step/nn', 1),\n",
       " ('kitchen-sink/jj', 1),\n",
       " ('whet/vbz', 1)]"
      ]
     },
     "execution_count": 11,
     "metadata": {},
     "output_type": "execute_result"
    }
   ],
   "source": [
    "frequency_dist.most_common()[-5:]"
   ]
  },
  {
   "cell_type": "code",
   "execution_count": 12,
   "metadata": {},
   "outputs": [
    {
     "data": {
      "image/png": "[encoded data removed]",
      "text/plain": [
       "<Figure size 432x288 with 1 Axes>"
      ]
     },
     "metadata": {
      "needs_background": "light"
     },
     "output_type": "display_data"
    },
    {
     "data": {
      "text/plain": [
       "<AxesSubplot:xlabel='Samples', ylabel='Counts'>"
      ]
     },
     "execution_count": 12,
     "metadata": {},
     "output_type": "execute_result"
    }
   ],
   "source": [
    "frequency_dist.plot(50)"
   ]
  },
  {
   "cell_type": "code",
   "execution_count": 13,
   "metadata": {},
   "outputs": [
    {
     "data": {
      "image/png": "[encoded data removed]",
      "text/plain": [
       "<Figure size 432x288 with 1 Axes>"
      ]
     },
     "metadata": {
      "needs_background": "light"
     },
     "output_type": "display_data"
    },
    {
     "data": {
      "text/plain": [
       "<AxesSubplot:xlabel='Samples', ylabel='Cumulative Counts'>"
      ]
     },
     "execution_count": 13,
     "metadata": {},
     "output_type": "execute_result"
    }
   ],
   "source": [
    "frequency_dist.plot(50, cumulative=True)"
   ]
  },
  {
   "cell_type": "markdown",
   "metadata": {},
   "source": [
    "Now we can see a few things already. First of all, the most common words still contain stopwords, which will need to be removed to look only at usefull content. Based on the graphs, the stories also follow Zipf's law."
   ]
  },
  {
   "cell_type": "code",
   "execution_count": 14,
   "metadata": {},
   "outputs": [],
   "source": [
    "from nltk.corpus import stopwords \n",
    "stop_words = set(stopwords.words('english')) "
   ]
  },
  {
   "cell_type": "code",
   "execution_count": 15,
   "metadata": {},
   "outputs": [],
   "source": [
    "filtered_sentence = []\n",
    "for token in filtered_list:\n",
    "    check = token.split(\"/\")[0]\n",
    "    if not check in stop_words:\n",
    "        filtered_sentence.append(check)"
   ]
  },
  {
   "cell_type": "code",
   "execution_count": 25,
   "metadata": {},
   "outputs": [
    {
     "data": {
      "text/plain": [
       "['farmyard',\n",
       " 'cock',\n",
       " 'weathercock',\n",
       " 'nnp',\n",
       " 'nnp',\n",
       " 'h.',\n",
       " 'c.',\n",
       " 'andersen',\n",
       " 'nnp',\n",
       " 'two',\n",
       " 'cock',\n",
       " 'one',\n",
       " 'dunghill',\n",
       " 'roof',\n",
       " 'conceit',\n",
       " 'two',\n",
       " 'effect',\n",
       " 'tell',\n",
       " 'opinion',\n",
       " 'shall',\n",
       " 'keep',\n",
       " 'nevertheless',\n",
       " 'poultry-yard',\n",
       " 'divide',\n",
       " 'partition',\n",
       " 'board',\n",
       " 'another',\n",
       " 'yard',\n",
       " 'lay',\n",
       " 'manure-heap',\n",
       " 'whereon',\n",
       " 'lay',\n",
       " 'grow',\n",
       " 'great',\n",
       " 'cucumber',\n",
       " 'fully',\n",
       " 'conscious',\n",
       " 'forcing-bed',\n",
       " 'plant',\n",
       " 'privilege',\n",
       " 'birth',\n",
       " 'cucumber',\n",
       " 'say',\n",
       " 'bear',\n",
       " 'cucumber',\n",
       " 'must',\n",
       " 'kind',\n",
       " 'fowl',\n",
       " 'duck',\n",
       " 'cattle',\n",
       " 'neighbouring',\n",
       " 'yard',\n",
       " 'creature',\n",
       " 'look',\n",
       " 'yard',\n",
       " 'cock',\n",
       " 'partition',\n",
       " 'certainly',\n",
       " 'much',\n",
       " 'greater',\n",
       " 'consequence',\n",
       " 'weathercock',\n",
       " 'highly',\n",
       " 'place',\n",
       " 'even',\n",
       " 'creak',\n",
       " 'much',\n",
       " 'less',\n",
       " 'crow',\n",
       " 'neither',\n",
       " 'hen',\n",
       " 'chicken',\n",
       " 'think',\n",
       " 'perspire',\n",
       " 'verdigris',\n",
       " 'yard',\n",
       " 'cock',\n",
       " 'something',\n",
       " 'like',\n",
       " 'cock',\n",
       " 'gait',\n",
       " 'like',\n",
       " 'dance',\n",
       " 'crowing',\n",
       " 'music',\n",
       " 'wherever',\n",
       " 'come',\n",
       " 'know',\n",
       " 'directly',\n",
       " 'trumpeter',\n",
       " 'would',\n",
       " 'come',\n",
       " 'even',\n",
       " 'eat',\n",
       " 'stalk',\n",
       " 'would',\n",
       " 'blissful',\n",
       " 'death',\n",
       " 'say',\n",
       " 'cucumber',\n",
       " 'night',\n",
       " 'weather',\n",
       " 'become',\n",
       " 'bad',\n",
       " 'hen',\n",
       " 'chicken',\n",
       " 'even',\n",
       " 'cock',\n",
       " 'seek',\n",
       " 'shelter',\n",
       " 'wind',\n",
       " 'blow',\n",
       " 'partition',\n",
       " 'two',\n",
       " 'yard',\n",
       " 'crash',\n",
       " 'tile',\n",
       " 'come',\n",
       " 'tumble',\n",
       " 'weathercock',\n",
       " 'sit',\n",
       " 'firm',\n",
       " 'even',\n",
       " 'turn',\n",
       " 'round',\n",
       " 'could',\n",
       " 'turn',\n",
       " 'round',\n",
       " 'yet',\n",
       " 'young',\n",
       " 'newly',\n",
       " 'cast',\n",
       " 'steady',\n",
       " 'sedate',\n",
       " 'bear',\n",
       " 'old',\n",
       " 'resemble',\n",
       " 'bird',\n",
       " 'fly',\n",
       " 'beneath',\n",
       " 'vault',\n",
       " 'heaven',\n",
       " 'sparrow',\n",
       " 'swallow',\n",
       " 'despise',\n",
       " 'consider',\n",
       " 'pipe',\n",
       " 'bird',\n",
       " 'trifle',\n",
       " 'stature',\n",
       " 'ordinary',\n",
       " 'song',\n",
       " 'bird',\n",
       " 'pigeon',\n",
       " 'allow',\n",
       " 'big',\n",
       " 'shine',\n",
       " 'gleam',\n",
       " 'like',\n",
       " 'mother-o',\n",
       " 'pearl',\n",
       " 'look',\n",
       " 'like',\n",
       " 'kind',\n",
       " 'weathercock',\n",
       " 'fat',\n",
       " 'stupid',\n",
       " 'whole',\n",
       " 'endeavor',\n",
       " 'fill',\n",
       " 'food',\n",
       " 'moreover',\n",
       " 'tedious',\n",
       " 'thing',\n",
       " 'converse',\n",
       " 'say',\n",
       " 'weathercock',\n",
       " 'bird',\n",
       " 'passage',\n",
       " 'also',\n",
       " 'pay',\n",
       " 'visit',\n",
       " 'weathercock',\n",
       " 'tell',\n",
       " 'tale',\n",
       " 'foreign',\n",
       " 'land',\n",
       " 'airy',\n",
       " 'caravan',\n",
       " 'exciting',\n",
       " 'robber',\n",
       " 'story',\n",
       " 'encounter',\n",
       " 'bird',\n",
       " 'prey',\n",
       " 'interesting',\n",
       " 'first',\n",
       " 'time',\n",
       " 'weathercock',\n",
       " 'know',\n",
       " 'afterwards',\n",
       " 'always',\n",
       " 'repeat',\n",
       " 'tedious',\n",
       " 'tedious',\n",
       " 'tedious',\n",
       " 'say',\n",
       " 'one',\n",
       " 'fit',\n",
       " 'associate',\n",
       " 'one',\n",
       " 'wearisome',\n",
       " 'stupid',\n",
       " 'world',\n",
       " 'worth',\n",
       " 'nothing',\n",
       " 'cry',\n",
       " 'whole',\n",
       " 'thing',\n",
       " 'stupidity',\n",
       " 'weathercock',\n",
       " 'call',\n",
       " 'use',\n",
       " 'quality',\n",
       " 'would',\n",
       " 'certainly',\n",
       " 'make',\n",
       " 'interesting',\n",
       " 'eye',\n",
       " 'cucumber',\n",
       " 'know',\n",
       " 'eye',\n",
       " 'yard',\n",
       " 'cock',\n",
       " 'actually',\n",
       " 'come',\n",
       " 'yard',\n",
       " 'wind',\n",
       " 'blow',\n",
       " 'plank',\n",
       " 'storm',\n",
       " 'pass',\n",
       " 'illustration',\n",
       " 'weathercock',\n",
       " 'aaaaa',\n",
       " 'aaa',\n",
       " 'think',\n",
       " '_',\n",
       " '_',\n",
       " 'crowing',\n",
       " 'yard',\n",
       " 'cock',\n",
       " 'inquire',\n",
       " 'hen',\n",
       " 'chicken',\n",
       " 'little',\n",
       " 'rough',\n",
       " 'elegance',\n",
       " 'want',\n",
       " 'hen',\n",
       " 'chicken',\n",
       " 'step',\n",
       " 'upon',\n",
       " 'muck-heap',\n",
       " 'cock',\n",
       " 'strut',\n",
       " 'fro',\n",
       " 'like',\n",
       " 'knight',\n",
       " 'garden',\n",
       " 'plant',\n",
       " 'cry',\n",
       " 'cucumber',\n",
       " 'one',\n",
       " 'word',\n",
       " 'understand',\n",
       " 'deep',\n",
       " 'feeling',\n",
       " 'forget',\n",
       " 'peck',\n",
       " 'eat',\n",
       " 'happy',\n",
       " 'death',\n",
       " 'hen',\n",
       " 'come',\n",
       " 'chicken',\n",
       " 'come',\n",
       " 'one',\n",
       " 'run',\n",
       " 'rest',\n",
       " 'run',\n",
       " 'also',\n",
       " 'cluck',\n",
       " 'chirp',\n",
       " 'look',\n",
       " 'cock',\n",
       " 'proud',\n",
       " 'kind',\n",
       " 'cock-a-doodle-doo',\n",
       " 'crow',\n",
       " 'chicken',\n",
       " 'grow',\n",
       " 'large',\n",
       " 'fowl',\n",
       " 'make',\n",
       " 'noise',\n",
       " 'poultry-yard',\n",
       " 'world',\n",
       " 'hen',\n",
       " 'chicken',\n",
       " 'cluck',\n",
       " 'chirp',\n",
       " 'cock',\n",
       " 'tell',\n",
       " 'great',\n",
       " 'piece',\n",
       " 'news',\n",
       " 'cock',\n",
       " 'lay',\n",
       " 'egg',\n",
       " 'know',\n",
       " 'egg',\n",
       " 'egg',\n",
       " 'lie',\n",
       " 'basilisk',\n",
       " 'one',\n",
       " 'stand',\n",
       " 'sight',\n",
       " 'basilisk',\n",
       " 'man',\n",
       " 'know',\n",
       " 'know',\n",
       " 'know',\n",
       " 'cock',\n",
       " 'world',\n",
       " 'yard',\n",
       " 'cock',\n",
       " 'flap',\n",
       " 'wing',\n",
       " 'make',\n",
       " 'comb',\n",
       " 'swell',\n",
       " 'crow',\n",
       " 'shudder',\n",
       " 'hen',\n",
       " 'chicken',\n",
       " 'proud',\n",
       " 'one',\n",
       " 'people',\n",
       " 'cock',\n",
       " 'world',\n",
       " 'cluck',\n",
       " 'chirp',\n",
       " 'weathercock',\n",
       " 'hear',\n",
       " 'hear',\n",
       " 'never',\n",
       " 'stir',\n",
       " 'stupid',\n",
       " 'stuff',\n",
       " 'say',\n",
       " 'voice',\n",
       " 'within',\n",
       " 'weathercock',\n",
       " 'yard',\n",
       " 'cock',\n",
       " 'lay',\n",
       " 'egg',\n",
       " 'lazy',\n",
       " 'lay',\n",
       " 'like',\n",
       " 'could',\n",
       " 'lay',\n",
       " 'wind-egg',\n",
       " 'world',\n",
       " 'worth',\n",
       " 'wind-egg',\n",
       " 'like',\n",
       " 'even',\n",
       " 'sit',\n",
       " 'longer',\n",
       " 'weathercock',\n",
       " 'break',\n",
       " 'kill',\n",
       " 'yard',\n",
       " 'cock',\n",
       " 'though',\n",
       " 'intend',\n",
       " 'hen',\n",
       " 'declare',\n",
       " 'moral',\n",
       " 'say',\n",
       " 'better',\n",
       " 'crow',\n",
       " 'use',\n",
       " 'break',\n",
       " 'butterfly',\n",
       " 'nnp',\n",
       " 'nnp',\n",
       " 'h.',\n",
       " 'c.',\n",
       " 'andersen',\n",
       " 'nnp',\n",
       " 'butterfly',\n",
       " 'wish',\n",
       " 'bride',\n",
       " 'may',\n",
       " 'imagine',\n",
       " 'want',\n",
       " 'select',\n",
       " 'pretty',\n",
       " 'one',\n",
       " 'among',\n",
       " 'flower',\n",
       " 'therefore',\n",
       " 'throw',\n",
       " 'critical',\n",
       " 'glance',\n",
       " 'flower-beds',\n",
       " 'find',\n",
       " 'every',\n",
       " 'flower',\n",
       " 'sit',\n",
       " 'quietly',\n",
       " 'demurely',\n",
       " 'stalk',\n",
       " 'maiden',\n",
       " 'ought',\n",
       " 'sit',\n",
       " 'engage',\n",
       " 'great',\n",
       " 'many',\n",
       " 'choice',\n",
       " 'threaten',\n",
       " 'become',\n",
       " 'wearisome',\n",
       " 'butterfly',\n",
       " 'care',\n",
       " 'take',\n",
       " 'much',\n",
       " 'trouble',\n",
       " 'consequently',\n",
       " 'fly',\n",
       " 'visit',\n",
       " 'daisy',\n",
       " 'french',\n",
       " 'call',\n",
       " 'floweret',\n",
       " 'marguerite',\n",
       " 'know',\n",
       " 'marguerite',\n",
       " 'prophecy',\n",
       " 'lover',\n",
       " 'pluck',\n",
       " 'leaf',\n",
       " 'ask',\n",
       " 'every',\n",
       " 'leaf',\n",
       " 'pluck',\n",
       " 'question',\n",
       " 'concern',\n",
       " 'lover',\n",
       " 'heartily',\n",
       " 'painfully',\n",
       " 'love',\n",
       " 'much',\n",
       " 'little',\n",
       " 'every',\n",
       " 'one',\n",
       " 'ask',\n",
       " 'language',\n",
       " 'butterfly',\n",
       " 'come',\n",
       " 'marguerite',\n",
       " 'inquire',\n",
       " 'pluck',\n",
       " 'leaf',\n",
       " 'kiss',\n",
       " 'consider',\n",
       " 'kindness',\n",
       " 'darling',\n",
       " 'marguerite',\n",
       " 'daisy',\n",
       " 'say',\n",
       " 'wisest',\n",
       " 'woman',\n",
       " 'among',\n",
       " 'flower',\n",
       " 'pray',\n",
       " 'pray',\n",
       " 'tell',\n",
       " 'shall',\n",
       " 'get',\n",
       " 'one',\n",
       " 'bride',\n",
       " 'know',\n",
       " 'directly',\n",
       " 'fly',\n",
       " 'propose',\n",
       " 'marguerite',\n",
       " 'answer',\n",
       " 'angry',\n",
       " 'call',\n",
       " 'woman',\n",
       " 'yet',\n",
       " 'girl',\n",
       " 'great',\n",
       " 'difference',\n",
       " 'ask',\n",
       " 'second',\n",
       " 'third',\n",
       " 'time',\n",
       " 'remain',\n",
       " 'dumb',\n",
       " 'answer',\n",
       " 'word',\n",
       " 'would',\n",
       " 'wait',\n",
       " 'longer',\n",
       " 'fly',\n",
       " 'away',\n",
       " 'begin',\n",
       " 'woo',\n",
       " 'beginning',\n",
       " 'spring',\n",
       " 'crocus',\n",
       " 'snowdrop',\n",
       " 'bloom',\n",
       " 'around',\n",
       " 'pretty',\n",
       " 'think',\n",
       " 'butterfly',\n",
       " 'charming',\n",
       " 'little',\n",
       " 'lass',\n",
       " 'little',\n",
       " 'much',\n",
       " 'schoolgirl',\n",
       " 'like',\n",
       " 'young',\n",
       " 'lad',\n",
       " 'look',\n",
       " 'elder',\n",
       " 'girl',\n",
       " 'fly',\n",
       " 'anemone',\n",
       " 'little',\n",
       " 'bitter',\n",
       " 'taste',\n",
       " 'violet',\n",
       " 'somewhat',\n",
       " 'sentimental',\n",
       " 'lime',\n",
       " 'blossom',\n",
       " 'small',\n",
       " 'moreover',\n",
       " 'many',\n",
       " 'relation',\n",
       " 'apple',\n",
       " 'blossom',\n",
       " 'look',\n",
       " 'like',\n",
       " 'rose',\n",
       " 'bloom',\n",
       " 'to-day',\n",
       " 'fall',\n",
       " 'to-morrow',\n",
       " 'fall',\n",
       " 'beneath',\n",
       " 'first',\n",
       " 'wind',\n",
       " 'blow',\n",
       " 'think',\n",
       " 'marriage',\n",
       " 'would',\n",
       " 'last',\n",
       " 'short',\n",
       " 'time',\n",
       " 'pea',\n",
       " 'blossom',\n",
       " 'please',\n",
       " 'best',\n",
       " 'white',\n",
       " 'red',\n",
       " 'graceful',\n",
       " 'delicate',\n",
       " 'belong',\n",
       " 'domestic',\n",
       " 'maiden',\n",
       " 'look',\n",
       " 'well',\n",
       " 'time',\n",
       " 'useful',\n",
       " 'kitchen',\n",
       " 'make',\n",
       " 'offer',\n",
       " 'close',\n",
       " 'maiden',\n",
       " 'see',\n",
       " 'pod',\n",
       " 'whose',\n",
       " 'end',\n",
       " 'hang',\n",
       " 'withered',\n",
       " 'flower',\n",
       " 'ask',\n",
       " 'sister',\n",
       " 'reply',\n",
       " 'pease',\n",
       " 'blossom',\n",
       " 'oh',\n",
       " 'indeed',\n",
       " 'get',\n",
       " 'look',\n",
       " 'like',\n",
       " 'say',\n",
       " 'away',\n",
       " 'fly',\n",
       " 'feel',\n",
       " 'quite',\n",
       " 'shocked',\n",
       " 'honeysuckle',\n",
       " 'hang',\n",
       " 'forth',\n",
       " 'bloom',\n",
       " 'hedge',\n",
       " 'number',\n",
       " 'girl',\n",
       " 'like',\n",
       " 'long',\n",
       " 'face',\n",
       " 'sallow',\n",
       " 'complexion',\n",
       " 'like',\n",
       " 'one',\n",
       " 'like',\n",
       " 'spring',\n",
       " 'go',\n",
       " 'summer',\n",
       " 'draw',\n",
       " 'towards',\n",
       " 'close',\n",
       " 'autumn',\n",
       " 'still',\n",
       " 'undecided',\n",
       " 'flower',\n",
       " 'appear',\n",
       " 'gorgeous',\n",
       " 'robe',\n",
       " 'vain',\n",
       " 'fresh',\n",
       " 'fragrant',\n",
       " 'air',\n",
       " 'youth',\n",
       " 'heart',\n",
       " 'demand',\n",
       " 'fragrance',\n",
       " 'even',\n",
       " 'longer',\n",
       " 'young',\n",
       " 'little',\n",
       " 'find',\n",
       " 'among',\n",
       " 'dahlia',\n",
       " 'dry',\n",
       " 'chrysanthemum',\n",
       " 'therefore',\n",
       " 'butterfly',\n",
       " 'turn',\n",
       " 'mint',\n",
       " 'ground',\n",
       " 'see',\n",
       " 'plant',\n",
       " 'blossom',\n",
       " 'indeed',\n",
       " 'blossom',\n",
       " 'full',\n",
       " 'fragrance',\n",
       " 'head',\n",
       " 'foot',\n",
       " 'flower',\n",
       " 'scent',\n",
       " 'every',\n",
       " 'leaf',\n",
       " 'shall',\n",
       " 'take',\n",
       " 'say',\n",
       " 'butterfly',\n",
       " 'make',\n",
       " 'offer',\n",
       " 'mint',\n",
       " 'stand',\n",
       " 'silent',\n",
       " 'stiff',\n",
       " 'listen',\n",
       " 'last',\n",
       " 'say',\n",
       " 'friendship',\n",
       " 'please',\n",
       " 'nothing',\n",
       " 'old',\n",
       " 'old',\n",
       " 'may',\n",
       " 'well',\n",
       " 'live',\n",
       " 'one',\n",
       " 'another',\n",
       " 'marry',\n",
       " 'let',\n",
       " 'appear',\n",
       " 'ridiculous',\n",
       " 'age',\n",
       " 'thus',\n",
       " 'happen',\n",
       " 'butterfly',\n",
       " 'wife',\n",
       " 'long',\n",
       " 'choosing',\n",
       " 'bad',\n",
       " 'plan',\n",
       " 'butterfly',\n",
       " 'become',\n",
       " 'call',\n",
       " 'old',\n",
       " 'bachelor',\n",
       " 'late',\n",
       " 'autumn',\n",
       " 'rain',\n",
       " 'cloudy',\n",
       " 'weather',\n",
       " 'wind',\n",
       " 'blow',\n",
       " 'cold',\n",
       " 'back',\n",
       " 'old',\n",
       " 'willow',\n",
       " 'tree',\n",
       " 'creak',\n",
       " 'weather',\n",
       " 'fly',\n",
       " 'summer',\n",
       " 'clothes',\n",
       " 'indeed',\n",
       " 'butterfly',\n",
       " 'open',\n",
       " 'air',\n",
       " 'get',\n",
       " 'shelter',\n",
       " 'chance',\n",
       " 'fire',\n",
       " 'stove',\n",
       " 'heat',\n",
       " 'summer',\n",
       " 'could',\n",
       " 'live',\n",
       " 'well',\n",
       " 'enough',\n",
       " 'say',\n",
       " 'enough',\n",
       " 'merely',\n",
       " 'live',\n",
       " 'one',\n",
       " 'must',\n",
       " 'freedom',\n",
       " 'sunshine',\n",
       " 'little',\n",
       " 'flower',\n",
       " 'fly',\n",
       " 'window-frame',\n",
       " 'see',\n",
       " 'admire',\n",
       " 'stick',\n",
       " 'upon',\n",
       " 'pin',\n",
       " 'place',\n",
       " 'box',\n",
       " 'curiosity',\n",
       " 'could',\n",
       " 'perch',\n",
       " 'stalk',\n",
       " 'like',\n",
       " 'flower',\n",
       " 'say',\n",
       " 'butterfly',\n",
       " 'certainly',\n",
       " 'pleasant',\n",
       " 'must',\n",
       " 'something',\n",
       " 'like',\n",
       " 'marry',\n",
       " 'one',\n",
       " 'stick',\n",
       " 'fast',\n",
       " 'console',\n",
       " 'measure',\n",
       " 'thought',\n",
       " 'poor',\n",
       " 'comfort',\n",
       " 'say',\n",
       " 'potted',\n",
       " 'plant',\n",
       " 'room',\n",
       " 'think',\n",
       " 'butterfly',\n",
       " 'one',\n",
       " 'well',\n",
       " 'trust',\n",
       " 'potted',\n",
       " 'plant',\n",
       " 'much',\n",
       " 'mankind',\n",
       " '33',\n",
       " 'three',\n",
       " 'languages',\n",
       " 'nnp',\n",
       " 'nnp',\n",
       " 'brothers',\n",
       " 'grimm',\n",
       " 'vbd',\n",
       " 'age',\n",
       " 'count',\n",
       " 'live',\n",
       " 'switzerland',\n",
       " 'son',\n",
       " 'stupid',\n",
       " 'could',\n",
       " 'learn',\n",
       " 'nothing',\n",
       " 'say',\n",
       " 'father',\n",
       " 'hark',\n",
       " 'thee',\n",
       " 'son',\n",
       " 'get',\n",
       " 'nothing',\n",
       " 'thy',\n",
       " 'head',\n",
       " 'let',\n",
       " 'try',\n",
       " 'thou',\n",
       " 'must',\n",
       " 'go',\n",
       " 'hence',\n",
       " 'give',\n",
       " 'thee',\n",
       " 'care',\n",
       " 'celebrated',\n",
       " 'master',\n",
       " 'shall',\n",
       " 'see',\n",
       " 'thee',\n",
       " 'youth',\n",
       " 'send',\n",
       " 'strange',\n",
       " 'town',\n",
       " 'remain',\n",
       " 'whole',\n",
       " 'year',\n",
       " 'master',\n",
       " 'end',\n",
       " 'time',\n",
       " 'come',\n",
       " 'home',\n",
       " 'father',\n",
       " 'ask',\n",
       " 'son',\n",
       " 'hast',\n",
       " 'thou',\n",
       " 'learn',\n",
       " 'father',\n",
       " 'learn',\n",
       " 'dog',\n",
       " 'say',\n",
       " 'bark',\n",
       " 'lord',\n",
       " 'mercy',\n",
       " 'cry',\n",
       " 'father',\n",
       " 'thou',\n",
       " 'hast',\n",
       " 'learn',\n",
       " 'send',\n",
       " 'thee',\n",
       " 'another',\n",
       " 'town',\n",
       " 'another',\n",
       " 'master',\n",
       " 'youth',\n",
       " 'take',\n",
       " 'thither',\n",
       " 'stay',\n",
       " 'year',\n",
       " 'master',\n",
       " 'likewise',\n",
       " 'come',\n",
       " 'back',\n",
       " 'father',\n",
       " 'ask',\n",
       " 'son',\n",
       " 'hast',\n",
       " 'thou',\n",
       " 'learn',\n",
       " 'answer',\n",
       " 'father',\n",
       " 'learn',\n",
       " 'bird',\n",
       " 'say',\n",
       " 'father',\n",
       " 'fall',\n",
       " 'rage',\n",
       " 'say',\n",
       " 'oh',\n",
       " 'thou',\n",
       " 'lose',\n",
       " 'man',\n",
       " 'thou',\n",
       " 'hast',\n",
       " 'spend',\n",
       " 'precious',\n",
       " 'time',\n",
       " 'learn',\n",
       " 'nothing',\n",
       " 'art',\n",
       " 'thou',\n",
       " 'ashamed',\n",
       " 'appear',\n",
       " 'mine',\n",
       " 'eye',\n",
       " 'send',\n",
       " 'thee',\n",
       " 'third',\n",
       " 'master',\n",
       " 'thou',\n",
       " 'learnest',\n",
       " 'nothing',\n",
       " 'time',\n",
       " 'also',\n",
       " 'longer',\n",
       " 'thy',\n",
       " 'father',\n",
       " 'youth',\n",
       " 'remain',\n",
       " 'whole',\n",
       " 'year',\n",
       " 'third',\n",
       " 'master',\n",
       " 'also',\n",
       " 'come',\n",
       " 'home',\n",
       " 'father',\n",
       " 'inquire',\n",
       " 'son',\n",
       " 'hast',\n",
       " 'thou',\n",
       " 'learn',\n",
       " 'answer',\n",
       " 'dear',\n",
       " 'father',\n",
       " 'year',\n",
       " 'learn',\n",
       " 'frog',\n",
       " 'croak',\n",
       " 'father',\n",
       " 'fall',\n",
       " 'furious',\n",
       " 'anger',\n",
       " 'spring',\n",
       " 'call',\n",
       " 'people',\n",
       " 'thither',\n",
       " 'say',\n",
       " 'man',\n",
       " 'longer',\n",
       " 'son',\n",
       " 'drive',\n",
       " 'forth',\n",
       " 'command',\n",
       " 'take',\n",
       " 'forest',\n",
       " 'kill',\n",
       " 'take',\n",
       " 'forth',\n",
       " 'kill',\n",
       " 'could',\n",
       " 'pity',\n",
       " 'let',\n",
       " 'go',\n",
       " 'cut',\n",
       " 'eye',\n",
       " 'tongue',\n",
       " 'deer',\n",
       " 'might',\n",
       " 'carry',\n",
       " 'old',\n",
       " 'man',\n",
       " 'token',\n",
       " 'youth',\n",
       " 'wander',\n",
       " 'time',\n",
       " 'come',\n",
       " ...]"
      ]
     },
     "execution_count": 25,
     "metadata": {},
     "output_type": "execute_result"
    }
   ],
   "source": [
    "filtered_sentence"
   ]
  },
  {
   "cell_type": "markdown",
   "metadata": {},
   "source": [
    "Now that all stopwords have been removed, let's take another look at the frequency distribution"
   ]
  },
  {
   "cell_type": "code",
   "execution_count": 17,
   "metadata": {},
   "outputs": [
    {
     "data": {
      "text/plain": [
       "[('say', 68639),\n",
       " ('go', 48576),\n",
       " ('come', 41401),\n",
       " ('one', 33532),\n",
       " ('king', 30153),\n",
       " ('see', 29999),\n",
       " ('take', 28773),\n",
       " ('thou', 25278),\n",
       " ('would', 24053),\n",
       " ('give', 22250)]"
      ]
     },
     "execution_count": 17,
     "metadata": {},
     "output_type": "execute_result"
    }
   ],
   "source": [
    "frequency_dist_nostop = FreqDist(filtered_sentence)\n",
    "frequency_dist_nostop.most_common(10)"
   ]
  },
  {
   "cell_type": "code",
   "execution_count": 18,
   "metadata": {},
   "outputs": [
    {
     "data": {
      "text/plain": [
       "[('censured', 1), ('141', 1), ('eneke', 1), ('beneke', 1), ('door-step', 1)]"
      ]
     },
     "execution_count": 18,
     "metadata": {},
     "output_type": "execute_result"
    }
   ],
   "source": [
    "frequency_dist_nostop.most_common()[-5:]"
   ]
  },
  {
   "cell_type": "code",
   "execution_count": 19,
   "metadata": {},
   "outputs": [
    {
     "data": {
      "image/png": "[encoded data removed]",
      "text/plain": [
       "<Figure size 432x288 with 1 Axes>"
      ]
     },
     "metadata": {
      "needs_background": "light"
     },
     "output_type": "display_data"
    },
    {
     "data": {
      "text/plain": [
       "<AxesSubplot:xlabel='Samples', ylabel='Counts'>"
      ]
     },
     "execution_count": 19,
     "metadata": {},
     "output_type": "execute_result"
    }
   ],
   "source": [
    "frequency_dist_nostop.plot(50)"
   ]
  },
  {
   "cell_type": "code",
   "execution_count": 20,
   "metadata": {},
   "outputs": [
    {
     "data": {
      "image/png": "[encoded data removed]",
      "text/plain": [
       "<Figure size 432x288 with 1 Axes>"
      ]
     },
     "metadata": {
      "needs_background": "light"
     },
     "output_type": "display_data"
    },
    {
     "data": {
      "text/plain": [
       "<AxesSubplot:xlabel='Samples', ylabel='Cumulative Counts'>"
      ]
     },
     "execution_count": 20,
     "metadata": {},
     "output_type": "execute_result"
    }
   ],
   "source": [
    "frequency_dist_nostop.plot(50, cumulative=True)"
   ]
  },
  {
   "cell_type": "markdown",
   "metadata": {},
   "source": [
    "Zipf's law seems like it is still in place. When we look at the top 10 words we can already see something interesting. For example, the word \"say\" is used most often. If you think about fairy tales this makes sense; most sentences are in the form of \"blablabla said the pricess\". Lemmatized this is then \"say\". The other interesting token is \"king\". Since this token is associated with a specific gender/sex, and is used so often, we can expect that there are certain words associated with this token. "
   ]
  },
  {
   "cell_type": "markdown",
   "metadata": {},
   "source": [
    "# Building n-grams"
   ]
  },
  {
   "cell_type": "markdown",
   "metadata": {},
   "source": [
    "As part of our research, we are using an n-gram model for sentence generation and hope to find that the model is perhaps biased or not. To do so, some code was borrowed and adapted from: https://github.com/olegborisovv/NGram_LanguageModel\n",
    "\n"
   ]
  },
  {
   "cell_type": "code",
   "execution_count": 21,
   "metadata": {},
   "outputs": [
    {
     "data": {
      "text/plain": [
       "['farmyard', 'cock', 'weathercock', 'nnp', 'nnp']"
      ]
     },
     "execution_count": 21,
     "metadata": {},
     "output_type": "execute_result"
    }
   ],
   "source": [
    "test = filtered_sentence[:5]\n",
    "test"
   ]
  },
  {
   "cell_type": "code",
   "execution_count": 22,
   "metadata": {},
   "outputs": [],
   "source": [
    "def get_ngrams(n, tokens):\n",
    "    \"\"\"\n",
    "    :param n: n-gram size\n",
    "    :param tokens: tokenized sentence\n",
    "    :return: list of ngrams\n",
    "    ngrams of tuple form: ((previous wordS!), target word)\n",
    "    \"\"\"\n",
    "    tokens = (n-1)*['<START>']+tokens\n",
    "    l = [(tuple([tokens[i-p-1] for p in reversed(range(n-1))]), tokens[i]) for i in range(n-1, len(tokens))]\n",
    "    return l"
   ]
  },
  {
   "cell_type": "code",
   "execution_count": 23,
   "metadata": {},
   "outputs": [
    {
     "data": {
      "text/plain": [
       "[(('<START>', '<START>'), 'farmyard'),\n",
       " (('<START>', 'farmyard'), 'cock'),\n",
       " (('farmyard', 'cock'), 'weathercock'),\n",
       " (('cock', 'weathercock'), 'nnp'),\n",
       " (('weathercock', 'nnp'), 'nnp')]"
      ]
     },
     "execution_count": 23,
     "metadata": {},
     "output_type": "execute_result"
    }
   ],
   "source": [
    "get_ngrams(3, test)"
   ]
  },
  {
   "cell_type": "markdown",
   "metadata": {},
   "source": [
    "I quickly tested the funtion above to see if it indeed works as it is supposed to. "
   ]
  },
  {
   "cell_type": "markdown",
   "metadata": {},
   "source": [
    "For this part of the assignment, an additional dataset was used; the anderongrimm.txt file in the repositor contains stories of Anderson and Grimm and is not preprocessed. "
   ]
  },
  {
   "cell_type": "code",
   "execution_count": 24,
   "metadata": {},
   "outputs": [
    {
     "name": "stdout",
     "output_type": "stream",
     "text": [
      "Then the king ' s son waited till her father came home , and told him that the unknown maiden who had been at the feast had hidden herself in the pigeon - house . \" That is the tune I know , \" she exclaimed . Jurgen did not understand the reason of this , but he thought it would be best to turn back , and therefore he himself took an oar and returned . They were telling each other where they had been during the day . Yes , he must be there . \" Oh , now I have no horse at all , \" said Little Claus , weeping . It was , in this transformation , as if two natures were striving together within her ; her whole frame trembled , and she looked around her as if she had just awoke from a painful dream . Sleep was still in his eyes , but yet he crowed out : \" Three hens have died of their unfortunate love for a cock . With the rod knock thrice at the iron door of the castle , and it will spring open . She bent\n",
      "==================================================\n",
      "\" They say at home , \" said the little boy , taking it up and looking at it . \" Just then it came into his mind that he would stoop under the table , and so creep to the door . Believe me , the time will come when you will be old , and your sinews will shrink , and then , on some fine sunshiny day , when everything is laughing and rejoicing , you will lie there a faded plant , that will grow no more . The streets were rather irregular , it is true , but still this added to their picturesque appearance . Here , in the market - place , stood Knud , with his knapsack on his back , close to one of the old fountains which are so beautifully adorned with figures , scriptural and historical , and which spring up between the sparkling jets of water . “Let us drink claret and mead , and Bremen beer , ” shouted one of the guests—“and you shall drink with us ! ” Two maidens approached . “It is really dreadful , ” groaned he with increasing anxiety ; “I\n",
      "==================================================\n",
      "You will become ill by it . And the nightingale flew away , and time flew away also . A Russian bath would be a very good thing to begin with . If you understand the crows ' language then I can explain it better . The roof of each house is overgrown with moss and with yellow flowers and houseleek . \" Conceit ! Foolery ! \" is the cry . I mean that which mankind call the beautiful . \" Then the sunbeam kissed the lowly flower , and he kissed the blooming apple - branch , upon whose leaves appeared a rosy blush . The Emperor now sent another officer of his court to see how the men were getting on , and to ascertain whether the cloth would soon be ready . \" I was born and brought up there , and used to run about the snow - covered plains . If you will weep those eyes away in tears into my waters , then I will take you to the large hothouse where Death dwells and rears flowers and trees , every one of which is a human life . The gentlemen were also\n",
      "==================================================\n",
      "\" Karen believed that this was all on account of the red shoes , but the old lady thought they were horrible , and they were burnt . The time passed slowly and painfully . When they arrived at the bush with red berries , there stood the reindeer waiting for them , and he had brought another young reindeer with him , whose udders were full , and the children drank her warm milk and kissed her on the mouth . I would give up my doll and all my playthings , if she could only come here again . Nothing more is necessary , only to stir it . In the afternoon , the old lady heard from everyone that the shoes had been red , and she said that it was very wrong of Karen , that it was not at all becoming , and that in future Karen should only go in black shoes to church , even when she should be older . \" Brave ! brave ! \" they cried . After consulting together , they determined to bind together two more ladders , and to hoist them over the cavity , and so\n",
      "==================================================\n",
      "\" \" Inkpot ! \" exclaimed the pen contemptuously . It is a dangerous game , for one can easily catch cold and die from fever , and both of these are dead already . And when the psalms of the Christians sound across the churchyard , their echo reaches her lonely resting - place ; and she who sleeps there will be counted worthy at the resurrection , through the name of Christ the Lord , who said to His disciples , \" John baptized you with water , but I will baptize you with the Holy Ghost . And all was over with the casket , for Kaela died . ' ” “But Kay—little Kay , ” said Gerda , “when did he come ? Was he among the number ? ” “Patience , patience ; we are just come to him . \" And those whose names end with ' sen , ' \" said she , \" can never be anything at all . “I saw everything , and I shall tell all to you : but—it is no pride on my part—as a free man , and with the knowledge I have , not to\n",
      "==================================================\n",
      "One of them wrote verses about the bell , and said that it was like the voice of a mother speaking to an intelligent and beloved child ; no tune , he said , was sweeter than the sound of the bell . \" \" And perhaps break it off , \" said the mamma stork , \" then what a sight you would be . \" \" Charming ! \" said the General . But she was full of mystery about her art , in which a certain pair of magic spectacles did her essential service . \" \" You may get a fool to believe that , \" cried Mother Soren ; and she got up and went into the room where the child lay . I should like to go out a little . Our little bird flew away into the public roads , and found here and there , in the ruts of the sledges , a grain of corn , and at the halting places some crumbs . Then their father told them that in the world there was nothing but toil and difficulty : that it was not quite what it appeared to them\n",
      "==================================================\n",
      "The struggles of life which arouse sensations in the bosom have their type in the tiny flowers . The door was opened , and he was led forth , and fixed his eyes upon my round disc . Thumbling had great difficulty in working his way out ; however , he succeeded so far as to get some room , but , just as he was going to thrust his head out , a new misfortune occurred . “Poor thing , ” said the Lapland woman , “you have far to run still . \" \" But only for one day , and then it is all over . \" Have you obtained an appointment here in the city ? \" asked the sparrows . \" I am a straightforward girl , \" she said , \" and it was burning directly , and the curtain was burning too . Out in the river lay the ships , icebound , and forsaken by their crews ; a screaming crow represented the only living creature on board . The world could get on without men . He was , even then , a man of good means . The wind still\n",
      "==================================================\n",
      "At home the beautiful wife prayed for her husband and her father . Their clothes were very delicate and fine , for they were made of the leaves of flowers , trimmed with the wings of flies and gnats , which had not a bad effect . They took each other ' s hand , and at that moment the door of one of the houses opened , and the neighbour appeared . ” “Prude ! ” exclaimed the collar ; and then it was taken out of the washing - tub . There is an old legend about a saint who was allowed to choose one of the seven deadly sins , and who accordingly chose drunkenness , which appeared to him the least , but which led him to commit all the other six . \" And she gave Vertigo the commission . I am a happy director ; for none of my company ever grumble , nor the public either , for I always make them merry . “To travel ! to travel ! ” exclaimed he , overcome by most painful and passionate remembrances . But he did not despair . This was capital . The\n",
      "==================================================\n"
     ]
    }
   ],
   "source": [
    "import string\n",
    "import random\n",
    "import time\n",
    "from typing import List\n",
    "\n",
    "# ideally we would use some smart text tokenizer, but for simplicity use this one\n",
    "def tokenize(text: str) -> List[str]:\n",
    "    \"\"\"\n",
    "    :param text: Takes input sentence\n",
    "    :return: tokenized sentence\n",
    "    \"\"\"\n",
    "    for punct in string.punctuation:\n",
    "        text = text.replace(punct, ' '+punct+' ')\n",
    "    t = text.split()\n",
    "    return t\n",
    "\n",
    "def get_ngrams(n: int, tokens: list) -> list:\n",
    "    \"\"\"\n",
    "    :param n: n-gram size\n",
    "    :param tokens: tokenized sentence\n",
    "    :return: list of ngrams\n",
    "    ngrams of tuple form: ((previous wordS!), target word)\n",
    "    \"\"\"\n",
    "    # tokens.append('<END>')\n",
    "    tokens = (n-1)*['<START>']+tokens\n",
    "    l = [(tuple([tokens[i-p-1] for p in reversed(range(n-1))]), tokens[i]) for i in range(n-1, len(tokens))]\n",
    "    return l\n",
    "\n",
    "\n",
    "class NgramModel(object):\n",
    "\n",
    "    def __init__(self, n):\n",
    "        self.n = n\n",
    "\n",
    "        # dictionary that keeps list of candidate words given context\n",
    "        self.context = {}\n",
    "\n",
    "        # keeps track of how many times ngram has appeared in the text before\n",
    "        self.ngram_counter = {}\n",
    "\n",
    "    def update(self, sentence: str) -> None:\n",
    "        \"\"\"\n",
    "        Updates Language Model\n",
    "        :param sentence: input text\n",
    "        \"\"\"\n",
    "        n = self.n\n",
    "        ngrams = get_ngrams(n, tokenize(sentence))\n",
    "        for ngram in ngrams:\n",
    "            if ngram in self.ngram_counter:\n",
    "                self.ngram_counter[ngram] += 1.0\n",
    "            else:\n",
    "                self.ngram_counter[ngram] = 1.0\n",
    "\n",
    "            prev_words, target_word = ngram\n",
    "            if prev_words in self.context:\n",
    "                self.context[prev_words].append(target_word)\n",
    "            else:\n",
    "                self.context[prev_words] = [target_word]\n",
    "\n",
    "    def prob(self, context, token):\n",
    "        \"\"\"\n",
    "        Calculates probability of a candidate token to be generated given a context\n",
    "        :return: conditional probability\n",
    "        \"\"\"\n",
    "        try:\n",
    "            count_of_token = self.ngram_counter[(context, token)]\n",
    "            count_of_context = float(len(self.context[context]))\n",
    "            result = count_of_token / count_of_context\n",
    "\n",
    "        except KeyError:\n",
    "            result = 0.0\n",
    "        return result\n",
    "\n",
    "    def random_token(self, context):\n",
    "        \"\"\"\n",
    "        Given a context we \"semi-randomly\" select the next word to append in a sequence\n",
    "        :param context:\n",
    "        :return:\n",
    "        \"\"\"\n",
    "        r = random.random()\n",
    "        map_to_probs = {}\n",
    "        token_of_interest = self.context[context]\n",
    "        for token in token_of_interest:\n",
    "            map_to_probs[token] = self.prob(context, token)\n",
    "\n",
    "        summ = 0\n",
    "        for token in sorted(map_to_probs):\n",
    "            summ += map_to_probs[token]\n",
    "            if summ > r:\n",
    "                return token\n",
    "\n",
    "    def generate_text(self, token_count: int):\n",
    "        \"\"\"\n",
    "        :param token_count: number of words to be produced\n",
    "        :return: generated text\n",
    "        \"\"\"\n",
    "        n = self.n\n",
    "        context_queue = (n - 1) * ['<START>']\n",
    "        result = []\n",
    "        for _ in range(token_count):\n",
    "            obj = self.random_token(tuple(context_queue))\n",
    "            result.append(obj)\n",
    "            if n > 1:\n",
    "                context_queue.pop(0)\n",
    "                if obj == '.':\n",
    "                    context_queue = (n - 1) * ['<START>']\n",
    "                else:\n",
    "                    context_queue.append(obj)\n",
    "        return ' '.join(result)\n",
    "\n",
    "\n",
    "def create_ngram_model(n, path):\n",
    "    m = NgramModel(n)\n",
    "    with open(path, 'r') as f:\n",
    "        text = f.read()\n",
    "        text = text.split('.')\n",
    "        for sentence in text:\n",
    "            # add back the fullstop\n",
    "            sentence += '.'\n",
    "            m.update(sentence)\n",
    "    return m\n",
    "\n",
    "if __name__ == \"__main__\":\n",
    "    for n in range(8):\n",
    "        start = time.time()\n",
    "        m = create_ngram_model(8, 'andersongrimm.txt')\n",
    "        #print(f'n = {n}')\n",
    "        #print (f'Language Model creating time: {time.time() - start}')\n",
    "        start = time.time()\n",
    "        random.seed(n)\n",
    "        #print('Generated text:')\n",
    "        print(m.generate_text(200))\n",
    "        print(f'{\"=\"*50}')"
   ]
  },
  {
   "cell_type": "markdown",
   "metadata": {},
   "source": [
    "As can be seen, the model is able to generate some texts, which do have some biases in them; \"at home the beautiful wife prayed....\""
   ]
  },
  {
   "cell_type": "markdown",
   "metadata": {},
   "source": [
    "# Showing frequent bigrams"
   ]
  },
  {
   "cell_type": "markdown",
   "metadata": {},
   "source": [
    "Now we'll look at some bigrams and see if there are some obvious biases associated with gender. The code to generate the graph below is from: https://www.earthdatascience.org/courses/use-data-open-source-python/intro-to-apis/calculate-tweet-word-bigrams/"
   ]
  },
  {
   "cell_type": "code",
   "execution_count": 33,
   "metadata": {},
   "outputs": [],
   "source": [
    "import os\n",
    "import numpy as np\n",
    "import pandas as pd\n",
    "import matplotlib.pyplot as plt\n",
    "import seaborn as sns\n",
    "import itertools\n",
    "import collections\n",
    "\n",
    "import nltk\n",
    "from nltk import bigrams\n",
    "from nltk.corpus import stopwords\n",
    "import re\n",
    "import networkx as nx\n",
    "\n",
    "import warnings\n",
    "warnings.filterwarnings(\"ignore\")\n",
    "\n",
    "sns.set(font_scale=1.5)\n",
    "sns.set_style(\"whitegrid\")"
   ]
  },
  {
   "cell_type": "code",
   "execution_count": 37,
   "metadata": {},
   "outputs": [
    {
     "data": {
      "text/plain": [
       "[('farmyard', 'cock'),\n",
       " ('cock', 'weathercock'),\n",
       " ('weathercock', 'nnp'),\n",
       " ('nnp', 'nnp'),\n",
       " ('nnp', 'h.'),\n",
       " ('h.', 'c.'),\n",
       " ('c.', 'andersen'),\n",
       " ('andersen', 'nnp'),\n",
       " ('nnp', 'two'),\n",
       " ('two', 'cock')]"
      ]
     },
     "execution_count": 37,
     "metadata": {},
     "output_type": "execute_result"
    }
   ],
   "source": [
    "# Create list of lists containing bigrams our processed list of stories\n",
    "terms_bigram = list(bigrams(filtered_sentence))\n",
    "terms_bigram[0:10]"
   ]
  },
  {
   "cell_type": "code",
   "execution_count": 38,
   "metadata": {},
   "outputs": [
    {
     "data": {
      "text/plain": [
       "[(('old', 'woman'), 5115),\n",
       " (('king', 'son'), 4249),\n",
       " (('king', 'daughter'), 3504),\n",
       " (('go', 'away'), 3315),\n",
       " (('thou', 'hast'), 3149),\n",
       " (('nnp', 'nnp'), 2991),\n",
       " (('old', 'man'), 2958),\n",
       " (('thou', 'art'), 2710),\n",
       " (('brother', 'lustig'), 2418),\n",
       " (('thou', 'wilt'), 2289),\n",
       " (('one', 'day'), 2271),\n",
       " (('next', 'morning'), 2248),\n",
       " (('come', 'back'), 2215),\n",
       " (('nnp', 'brothers'), 2169),\n",
       " (('brothers', 'grimm'), 2169),\n",
       " (('say', 'thou'), 2075),\n",
       " (('thou', 'shalt'), 2074),\n",
       " (('grimm', 'nnp'), 2053),\n",
       " (('go', 'home'), 2033),\n",
       " (('st.', 'peter'), 2017)]"
      ]
     },
     "execution_count": 38,
     "metadata": {},
     "output_type": "execute_result"
    }
   ],
   "source": [
    "# Create counter of words in bigrams\n",
    "bigram_counts = collections.Counter(terms_bigram)\n",
    "\n",
    "bigram_counts.most_common(20)"
   ]
  },
  {
   "cell_type": "code",
   "execution_count": 45,
   "metadata": {},
   "outputs": [
    {
     "data": {
      "text/html": [
       "<div>\n",
       "<style scoped>\n",
       "    .dataframe tbody tr th:only-of-type {\n",
       "        vertical-align: middle;\n",
       "    }\n",
       "\n",
       "    .dataframe tbody tr th {\n",
       "        vertical-align: top;\n",
       "    }\n",
       "\n",
       "    .dataframe thead th {\n",
       "        text-align: right;\n",
       "    }\n",
       "</style>\n",
       "<table border=\"1\" class=\"dataframe\">\n",
       "  <thead>\n",
       "    <tr style=\"text-align: right;\">\n",
       "      <th></th>\n",
       "      <th>bigram</th>\n",
       "      <th>count</th>\n",
       "    </tr>\n",
       "  </thead>\n",
       "  <tbody>\n",
       "    <tr>\n",
       "      <th>0</th>\n",
       "      <td>(old, woman)</td>\n",
       "      <td>5115</td>\n",
       "    </tr>\n",
       "    <tr>\n",
       "      <th>1</th>\n",
       "      <td>(king, son)</td>\n",
       "      <td>4249</td>\n",
       "    </tr>\n",
       "    <tr>\n",
       "      <th>2</th>\n",
       "      <td>(king, daughter)</td>\n",
       "      <td>3504</td>\n",
       "    </tr>\n",
       "    <tr>\n",
       "      <th>3</th>\n",
       "      <td>(go, away)</td>\n",
       "      <td>3315</td>\n",
       "    </tr>\n",
       "    <tr>\n",
       "      <th>4</th>\n",
       "      <td>(thou, hast)</td>\n",
       "      <td>3149</td>\n",
       "    </tr>\n",
       "    <tr>\n",
       "      <th>...</th>\n",
       "      <td>...</td>\n",
       "      <td>...</td>\n",
       "    </tr>\n",
       "    <tr>\n",
       "      <th>195</th>\n",
       "      <td>(gold, silver)</td>\n",
       "      <td>438</td>\n",
       "    </tr>\n",
       "    <tr>\n",
       "      <th>196</th>\n",
       "      <td>(wife, say)</td>\n",
       "      <td>436</td>\n",
       "    </tr>\n",
       "    <tr>\n",
       "      <th>197</th>\n",
       "      <td>(know, nothing)</td>\n",
       "      <td>435</td>\n",
       "    </tr>\n",
       "    <tr>\n",
       "      <th>198</th>\n",
       "      <td>(leave, alone)</td>\n",
       "      <td>435</td>\n",
       "    </tr>\n",
       "    <tr>\n",
       "      <th>199</th>\n",
       "      <td>(come, see)</td>\n",
       "      <td>435</td>\n",
       "    </tr>\n",
       "  </tbody>\n",
       "</table>\n",
       "<p>200 rows × 2 columns</p>\n",
       "</div>"
      ],
      "text/plain": [
       "               bigram  count\n",
       "0        (old, woman)   5115\n",
       "1         (king, son)   4249\n",
       "2    (king, daughter)   3504\n",
       "3          (go, away)   3315\n",
       "4        (thou, hast)   3149\n",
       "..                ...    ...\n",
       "195    (gold, silver)    438\n",
       "196       (wife, say)    436\n",
       "197   (know, nothing)    435\n",
       "198    (leave, alone)    435\n",
       "199       (come, see)    435\n",
       "\n",
       "[200 rows x 2 columns]"
      ]
     },
     "execution_count": 45,
     "metadata": {},
     "output_type": "execute_result"
    }
   ],
   "source": [
    "bigram_df = pd.DataFrame(bigram_counts.most_common(200),\n",
    "                             columns=['bigram', 'count'])\n",
    "\n",
    "bigram_df"
   ]
  },
  {
   "cell_type": "code",
   "execution_count": 46,
   "metadata": {},
   "outputs": [],
   "source": [
    "# Create dictionary of bigrams and their counts\n",
    "d = bigram_df.set_index('bigram').T.to_dict('records')"
   ]
  },
  {
   "cell_type": "code",
   "execution_count": 47,
   "metadata": {},
   "outputs": [],
   "source": [
    "# Create network plot \n",
    "G = nx.Graph()\n",
    "\n",
    "# Create connections between nodes\n",
    "for k, v in d[0].items():\n",
    "    G.add_edge(k[0], k[1], weight=(v * 10))\n"
   ]
  },
  {
   "cell_type": "code",
   "execution_count": 50,
   "metadata": {},
   "outputs": [
    {
     "data": {
      "image/png": "[encoded data removed]",
      "text/plain": [
       "<Figure size 720x576 with 1 Axes>"
      ]
     },
     "metadata": {},
     "output_type": "display_data"
    }
   ],
   "source": [
    "fig, ax = plt.subplots(figsize=(10, 8))\n",
    "\n",
    "pos = nx.spring_layout(G, k=2)\n",
    "\n",
    "# Plot networks\n",
    "nx.draw_networkx(G, pos,\n",
    "                 font_size=16,\n",
    "                 width=3,\n",
    "                 edge_color='grey',\n",
    "                 node_color='purple',\n",
    "                 with_labels = False,\n",
    "                 ax=ax)\n",
    "\n",
    "# Create offset labels\n",
    "for key, value in pos.items():\n",
    "    x, y = value[0]+.135, value[1]+.045\n",
    "    ax.text(x, y,\n",
    "            s=key,\n",
    "            bbox=dict(facecolor='red', alpha=0.25),\n",
    "            horizontalalignment='center', fontsize=13)\n",
    "    \n",
    "plt.show()"
   ]
  },
  {
   "cell_type": "code",
   "execution_count": 54,
   "metadata": {},
   "outputs": [],
   "source": [
    "def select_bigrams(bigrams_list, token_list):\n",
    "    selected_bigrams = []\n",
    "    for tup in bigrams_list:\n",
    "        for token in token_list:\n",
    "            if token in tup:\n",
    "                selected_bigrams.append(tup)\n",
    "    return selected_bigrams"
   ]
  },
  {
   "cell_type": "code",
   "execution_count": 77,
   "metadata": {},
   "outputs": [],
   "source": [
    "token_list = [\"wife\", \"husband\", \"son\", \"daughter\", \"king\", \"queen\", \"prince\", \"princess\", \"brother\", \"sister\", \"mother\", \"father\", \"woman\", \"man\", \"lady\", \"gentleman\", \"gentlemen\", \"maiden\", \"girl\", \"boy\"]\n",
    "token_list_male = [\"husband\", \"son\", \"king\", \"prince\", \"brother\", \"father\", \"man\", \"gentleman\", \"gentlemen\", \"bachelor\", \"boy\"]\n",
    "token_list_female = [\"wife\", \"daughter\", \"queen\", \"princess\", \"sister\", \"mother\", \"woman\", \"lady\", \"maiden\", \"girl\"]"
   ]
  },
  {
   "cell_type": "code",
   "execution_count": 78,
   "metadata": {},
   "outputs": [],
   "source": [
    "selection_full = select_bigrams(terms_bigram, token_list)\n",
    "selection_female = select_bigrams(terms_bigram, token_list_female)\n",
    "selection_male = select_bigrams(terms_bigram, token_list_male)"
   ]
  },
  {
   "cell_type": "code",
   "execution_count": 79,
   "metadata": {},
   "outputs": [
    {
     "data": {
      "text/plain": [
       "[('stalk', 'maiden'),\n",
       " ('maiden', 'ought'),\n",
       " ('wisest', 'woman'),\n",
       " ('woman', 'among'),\n",
       " ('call', 'woman'),\n",
       " ('woman', 'yet'),\n",
       " ('yet', 'girl'),\n",
       " ('girl', 'great'),\n",
       " ('elder', 'girl'),\n",
       " ('girl', 'fly'),\n",
       " ('domestic', 'maiden'),\n",
       " ('maiden', 'look'),\n",
       " ('close', 'maiden'),\n",
       " ('maiden', 'see'),\n",
       " ('ask', 'sister'),\n",
       " ('sister', 'reply'),\n",
       " ('number', 'girl'),\n",
       " ('girl', 'like'),\n",
       " ('butterfly', 'wife'),\n",
       " ('wife', 'long')]"
      ]
     },
     "execution_count": 79,
     "metadata": {},
     "output_type": "execute_result"
    }
   ],
   "source": [
    "selection_female[:20]"
   ]
  },
  {
   "cell_type": "code",
   "execution_count": 80,
   "metadata": {},
   "outputs": [
    {
     "data": {
      "text/plain": [
       "[('basilisk', 'man'),\n",
       " ('man', 'know'),\n",
       " ('old', 'bachelor'),\n",
       " ('bachelor', 'late'),\n",
       " ('switzerland', 'son'),\n",
       " ('son', 'stupid'),\n",
       " ('say', 'father'),\n",
       " ('father', 'hark'),\n",
       " ('thee', 'son'),\n",
       " ('son', 'get'),\n",
       " ('home', 'father'),\n",
       " ('father', 'ask'),\n",
       " ('ask', 'son'),\n",
       " ('son', 'hast'),\n",
       " ('learn', 'father'),\n",
       " ('father', 'learn'),\n",
       " ('cry', 'father'),\n",
       " ('father', 'thou'),\n",
       " ('back', 'father'),\n",
       " ('father', 'ask')]"
      ]
     },
     "execution_count": 80,
     "metadata": {},
     "output_type": "execute_result"
    }
   ],
   "source": [
    "selection_male[:20]"
   ]
  },
  {
   "cell_type": "code",
   "execution_count": 81,
   "metadata": {},
   "outputs": [
    {
     "data": {
      "text/plain": [
       "[(('king', 'son'), 8498),\n",
       " (('king', 'daughter'), 7008),\n",
       " (('old', 'woman'), 5115),\n",
       " (('old', 'man'), 2958),\n",
       " (('brother', 'lustig'), 2418),\n",
       " (('say', 'king'), 1615),\n",
       " (('king', 'say'), 1598),\n",
       " (('father', 'mother'), 1192),\n",
       " (('say', 'father'), 1176),\n",
       " (('prince', 'ahmed'), 1111),\n",
       " (('king', 'persia'), 936),\n",
       " (('young', 'man'), 888),\n",
       " (('say', 'man'), 835),\n",
       " (('man', 'say'), 815),\n",
       " (('daughter', 'wife'), 770),\n",
       " (('king', 'queen'), 764),\n",
       " (('say', 'brother'), 728),\n",
       " (('queen', 'mother'), 722),\n",
       " (('king', 'father'), 704),\n",
       " (('king', 'beder'), 672)]"
      ]
     },
     "execution_count": 81,
     "metadata": {},
     "output_type": "execute_result"
    }
   ],
   "source": [
    "counts = collections.Counter(selection)\n",
    "counts.most_common(20)"
   ]
  },
  {
   "cell_type": "code",
   "execution_count": 82,
   "metadata": {},
   "outputs": [
    {
     "data": {
      "text/plain": [
       "[(('old', 'woman'), 5115),\n",
       " (('king', 'daughter'), 3504),\n",
       " (('daughter', 'wife'), 770),\n",
       " (('queen', 'mother'), 722),\n",
       " (('mother', 'say'), 616),\n",
       " (('daughter', 'say'), 613),\n",
       " (('father', 'mother'), 596),\n",
       " (('queen', 'gulnare'), 560),\n",
       " (('woman', 'say'), 551),\n",
       " (('woman', 'come'), 485),\n",
       " (('little', 'girl'), 484),\n",
       " (('say', 'girl'), 472),\n",
       " (('say', 'mother'), 466),\n",
       " (('wife', 'say'), 436),\n",
       " (('say', 'wife'), 431),\n",
       " (('beautiful', 'maiden'), 409),\n",
       " (('king', 'queen'), 382),\n",
       " (('give', 'daughter'), 379),\n",
       " (('go', 'mother'), 363),\n",
       " (('say', 'maiden'), 362)]"
      ]
     },
     "execution_count": 82,
     "metadata": {},
     "output_type": "execute_result"
    }
   ],
   "source": [
    "counts_female = collections.Counter(selection_female)\n",
    "counts_female.most_common(20)"
   ]
  },
  {
   "cell_type": "code",
   "execution_count": 83,
   "metadata": {},
   "outputs": [
    {
     "data": {
      "text/plain": [
       "[(('king', 'son'), 8498),\n",
       " (('king', 'daughter'), 3504),\n",
       " (('old', 'man'), 2958),\n",
       " (('brother', 'lustig'), 2418),\n",
       " (('say', 'king'), 1615),\n",
       " (('king', 'say'), 1598),\n",
       " (('say', 'father'), 1176),\n",
       " (('prince', 'ahmed'), 1111),\n",
       " (('king', 'persia'), 936),\n",
       " (('young', 'man'), 888),\n",
       " (('say', 'man'), 835),\n",
       " (('man', 'say'), 815),\n",
       " (('say', 'brother'), 728),\n",
       " (('king', 'father'), 704),\n",
       " (('king', 'beder'), 672),\n",
       " (('vizier', 'son'), 661),\n",
       " (('king', 'saleh'), 624),\n",
       " (('dragon', 'king'), 621),\n",
       " (('son', 'king'), 600),\n",
       " (('father', 'mother'), 596)]"
      ]
     },
     "execution_count": 83,
     "metadata": {},
     "output_type": "execute_result"
    }
   ],
   "source": [
    "counts_male = collections.Counter(selection_male)\n",
    "counts_male.most_common(20)"
   ]
  },
  {
   "cell_type": "markdown",
   "metadata": {},
   "source": [
    "Based on what we can see of the bigrams, there is not much bias to be found. Apparently it is common to have and old man or woman and an ill queen or king, but there is not much to say for strict biases. The only bigram that could be considered a bias is the \"beautiful maidens\". "
   ]
  },
  {
   "cell_type": "code",
   "execution_count": null,
   "metadata": {},
   "outputs": [],
   "source": []
  }
 ],
 "metadata": {
  "kernelspec": {
   "display_name": "Python 3",
   "language": "python",
   "name": "python3"
  },
  "language_info": {
   "codemirror_mode": {
    "name": "ipython",
    "version": 3
   },
   "file_extension": ".py",
   "mimetype": "text/x-python",
   "name": "python",
   "nbconvert_exporter": "python",
   "pygments_lexer": "ipython3",
   "version": "3.8.5"
  }
 },
 "nbformat": 4,
 "nbformat_minor": 2
}
