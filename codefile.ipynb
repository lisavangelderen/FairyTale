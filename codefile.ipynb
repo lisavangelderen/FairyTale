{
 "cells": [
  {
   "cell_type": "markdown",
   "metadata": {},
   "source": [
    "# Preprocessing"
   ]
  },
  {
   "cell_type": "markdown",
   "metadata": {},
   "source": [
    "Before starting the analysis part of the project, a little preprocessing has to be done. To start, we create a list with all the stories in it. Next we take apart each token to save only the lemmatized token, and remove unnecessary tokens (such as \"/n\" or punctuation). "
   ]
  },
  {
   "cell_type": "code",
   "execution_count": 2,
   "metadata": {},
   "outputs": [],
   "source": [
    "import os\n",
    "import glob\n",
    "\n",
    "# appends to file_list all files inside the particular folder given below that end with \".txt\"\n",
    "file_list = []\n",
    "for file_name in glob.iglob(\"data/**/*.txt\", recursive=True):\n",
    "    file_list.append(file_name)\n",
    "\n",
    "# appends each line of each story to story_list\n",
    "story_list = []\n",
    "for file in file_list:\n",
    "    with open(file, \"r\", encoding='UTF-8') as story:\n",
    "        lines = story.readlines()\n",
    "        story_list.append(lines)  "
   ]
  },
  {
   "cell_type": "code",
   "execution_count": 3,
   "metadata": {},
   "outputs": [
    {
     "data": {
      "text/plain": [
       "['data\\\\cluster004\\\\102664476-Hansel-and-Grethel-Brothers-Grimm.txt',\n",
       " 'data\\\\cluster004\\\\143982037-The-Singing-Springing-Lark-Brothers-Grimm.txt',\n",
       " 'data\\\\cluster004\\\\265219660-The-Drummer-Brothers-Grimm.txt',\n",
       " 'data\\\\cluster004\\\\341302702-Iron-John-Brothers-Grimm.txt',\n",
       " 'data\\\\cluster004\\\\382576826-Strong-Hans-Brothers-Grimm.txt']"
      ]
     },
     "execution_count": 3,
     "metadata": {},
     "output_type": "execute_result"
    }
   ],
   "source": [
    "file_list[:5]"
   ]
  },
  {
   "cell_type": "code",
   "execution_count": 4,
   "metadata": {},
   "outputs": [
    {
     "data": {
      "text/plain": [
       "['<title>/NNP --> NNP/NNP\\n',\n",
       " '15/CD --> 15/CD\\n',\n",
       " 'Hansel/NNP --> Hansel/NNP\\n',\n",
       " 'and/CC --> and/CC\\n',\n",
       " 'Grethel/NNP --> Grethel/NNP\\n',\n",
       " '</title>/NNP --> NNP/NNP\\n',\n",
       " '<author>/NNP --> NNP/NNP\\n',\n",
       " 'Brothers/NNPS --> Brothers/NNPS\\n',\n",
       " 'Grimm/NNP --> Grimm/NNP\\n',\n",
       " '</author>/NNP --> NNP/NNP\\n']"
      ]
     },
     "execution_count": 4,
     "metadata": {},
     "output_type": "execute_result"
    }
   ],
   "source": [
    "story_list[0][:10]"
   ]
  },
  {
   "cell_type": "code",
   "execution_count": 5,
   "metadata": {},
   "outputs": [],
   "source": [
    "# removes the first, not letmmatized, instance of each token, and lowercase everything\n",
    "trimmed_story_list = []\n",
    "for sentence in story_list:\n",
    "    for token in sentence:\n",
    "        if \"-->\" in token:\n",
    "            split_token = token.split(\"-->\", 1)[1]\n",
    "            split_token = split_token.lower()\n",
    "            trimmed_story_list.append(split_token)\n",
    "        else:\n",
    "            continue"
   ]
  },
  {
   "cell_type": "code",
   "execution_count": 6,
   "metadata": {},
   "outputs": [
    {
     "data": {
      "text/plain": [
       "' nnp/nnp\\n'"
      ]
     },
     "execution_count": 6,
     "metadata": {},
     "output_type": "execute_result"
    }
   ],
   "source": [
    "trimmed_story_list[0]"
   ]
  },
  {
   "cell_type": "code",
   "execution_count": 7,
   "metadata": {},
   "outputs": [],
   "source": [
    "# removes \"/n\" from the end of each token\n",
    "cleaned_list = []\n",
    "for item in trimmed_story_list:\n",
    "    new_item = item[:-1]\n",
    "    cleaned_list.append(new_item)"
   ]
  },
  {
   "cell_type": "code",
   "execution_count": 8,
   "metadata": {},
   "outputs": [
    {
     "data": {
      "text/plain": [
       "[' nnp/nnp',\n",
       " ' 15/cd',\n",
       " ' hansel/nnp',\n",
       " ' and/cc',\n",
       " ' grethel/nnp',\n",
       " ' nnp/nnp',\n",
       " ' nnp/nnp',\n",
       " ' brothers/nnps',\n",
       " ' grimm/nnp',\n",
       " ' nnp/nnp']"
      ]
     },
     "execution_count": 8,
     "metadata": {},
     "output_type": "execute_result"
    }
   ],
   "source": [
    "cleaned_list[:10]"
   ]
  },
  {
   "cell_type": "code",
   "execution_count": 9,
   "metadata": {},
   "outputs": [],
   "source": [
    "# adds only relevant tokens to filtered_list: removes tokens that are not a word, as well as words irrelevant to our \n",
    "# study (such as determinants)\n",
    "filtered_list=[]\n",
    "for item in cleaned_list:\n",
    "    if item.startswith((\" .\", \" ,\", \" /\", \" :\", \" ;\", \" '\", \" `\", \" nnp\", \" ?\", \" !\", \" -\", \" 1\", \" 2\"\\\n",
    "                       \" 3\", \" 4\", \" 5\", \" 6\", \" 7\", \" 8\", \" 9\", \" 0\")): \n",
    "        continue\n",
    "    elif item.endswith((\"cc\", \"in\", \"dt\")):\n",
    "        continue\n",
    "    else:\n",
    "        filtered_list.append(item.lstrip())"
   ]
  },
  {
   "cell_type": "code",
   "execution_count": 10,
   "metadata": {},
   "outputs": [
    {
     "data": {
      "text/plain": [
       "['hansel/nnp',\n",
       " 'grethel/nnp',\n",
       " 'brothers/nnps',\n",
       " 'grimm/nnp',\n",
       " 'hard/nnp',\n",
       " 'great/jj',\n",
       " 'forest/nn',\n",
       " 'dwell/vbd',\n",
       " 'poor/jj',\n",
       " 'wood-cutter/nn']"
      ]
     },
     "execution_count": 10,
     "metadata": {},
     "output_type": "execute_result"
    }
   ],
   "source": [
    "filtered_list[:10]"
   ]
  },
  {
   "cell_type": "markdown",
   "metadata": {},
   "source": [
    "# Data Exploration"
   ]
  },
  {
   "cell_type": "markdown",
   "metadata": {},
   "source": [
    "Now we can move on the explore the data. To do so, we'll take a look at the stories themselves and what we can tell from the data before training any model on it."
   ]
  },
  {
   "cell_type": "markdown",
   "metadata": {},
   "source": [
    "We start by looking at the most frequent and least frequent words. "
   ]
  },
  {
   "cell_type": "code",
   "execution_count": 11,
   "metadata": {},
   "outputs": [
    {
     "data": {
      "text/plain": [
       "[('he/prp', 220124),\n",
       " ('to/to', 217260),\n",
       " ('be/vbd', 140870),\n",
       " ('i/prp', 137579),\n",
       " ('she/prp', 99800)]"
      ]
     },
     "execution_count": 11,
     "metadata": {},
     "output_type": "execute_result"
    }
   ],
   "source": [
    "from nltk.probability import FreqDist\n",
    "frequency_dist = FreqDist(filtered_list)\n",
    "frequency_dist.most_common(5)"
   ]
  },
  {
   "cell_type": "code",
   "execution_count": 12,
   "metadata": {},
   "outputs": [
    {
     "data": {
      "text/plain": [
       "[('straw/vbd', 1),\n",
       " ('stranger/vbz', 1),\n",
       " ('door-step/nn', 1),\n",
       " ('kitchen-sink/jj', 1),\n",
       " ('whet/vbz', 1)]"
      ]
     },
     "execution_count": 12,
     "metadata": {},
     "output_type": "execute_result"
    }
   ],
   "source": [
    "frequency_dist.most_common()[-5:]"
   ]
  },
  {
   "cell_type": "code",
   "execution_count": 13,
   "metadata": {},
   "outputs": [
    {
     "data": {
      "image/png": "[encoded data removed]",
      "text/plain": [
       "<Figure size 432x288 with 1 Axes>"
      ]
     },
     "metadata": {
      "needs_background": "light"
     },
     "output_type": "display_data"
    },
    {
     "data": {
      "text/plain": [
       "<AxesSubplot:xlabel='Samples', ylabel='Counts'>"
      ]
     },
     "execution_count": 13,
     "metadata": {},
     "output_type": "execute_result"
    }
   ],
   "source": [
    "frequency_dist.plot(50)"
   ]
  },
  {
   "cell_type": "code",
   "execution_count": 14,
   "metadata": {},
   "outputs": [
    {
     "data": {
      "image/png": "[encoded data removed]",
      "text/plain": [
       "<Figure size 432x288 with 1 Axes>"
      ]
     },
     "metadata": {
      "needs_background": "light"
     },
     "output_type": "display_data"
    },
    {
     "data": {
      "text/plain": [
       "<AxesSubplot:xlabel='Samples', ylabel='Cumulative Counts'>"
      ]
     },
     "execution_count": 14,
     "metadata": {},
     "output_type": "execute_result"
    }
   ],
   "source": [
    "frequency_dist.plot(50, cumulative=True)"
   ]
  },
  {
   "cell_type": "markdown",
   "metadata": {},
   "source": [
    "Now we can see a few things already. First of all, the most common words still contain stopwords, which will need to be removed to look only at usefull content. Based on the graphs, the stories also follow Zipf's law."
   ]
  },
  {
   "cell_type": "code",
   "execution_count": 15,
   "metadata": {},
   "outputs": [],
   "source": [
    "from nltk.corpus import stopwords \n",
    "stop_words = set(stopwords.words('english')) "
   ]
  },
  {
   "cell_type": "code",
   "execution_count": 16,
   "metadata": {},
   "outputs": [],
   "source": [
    "filtered_sentence = []\n",
    "for token in filtered_list:\n",
    "    check = token.split(\"/\")[0]\n",
    "    if not check in stop_words:\n",
    "        filtered_sentence.append(check)"
   ]
  },
  {
   "cell_type": "code",
   "execution_count": 20,
   "metadata": {},
   "outputs": [
    {
     "data": {
      "text/plain": [
       "['hansel',\n",
       " 'grethel',\n",
       " 'brothers',\n",
       " 'grimm',\n",
       " 'hard',\n",
       " 'great',\n",
       " 'forest',\n",
       " 'dwell',\n",
       " 'poor',\n",
       " 'wood-cutter']"
      ]
     },
     "execution_count": 20,
     "metadata": {},
     "output_type": "execute_result"
    }
   ],
   "source": [
    "filtered_sentence[:10]"
   ]
  },
  {
   "cell_type": "markdown",
   "metadata": {},
   "source": [
    "Now that all stopwords have been removed, let's take another look at the frequency distribution"
   ]
  },
  {
   "cell_type": "code",
   "execution_count": 17,
   "metadata": {},
   "outputs": [
    {
     "data": {
      "text/plain": [
       "[('say', 68639),\n",
       " ('go', 48576),\n",
       " ('come', 41401),\n",
       " ('one', 33532),\n",
       " ('king', 30153),\n",
       " ('see', 29999),\n",
       " ('take', 28773),\n",
       " ('thou', 25255),\n",
       " ('would', 24053),\n",
       " ('give', 22250)]"
      ]
     },
     "execution_count": 17,
     "metadata": {},
     "output_type": "execute_result"
    }
   ],
   "source": [
    "frequency_dist_nostop = FreqDist(filtered_sentence)\n",
    "frequency_dist_nostop.most_common(10)"
   ]
  },
  {
   "cell_type": "code",
   "execution_count": 18,
   "metadata": {},
   "outputs": [
    {
     "data": {
      "text/plain": [
       "[('laziest', 1),\n",
       " ('negligent', 1),\n",
       " ('eneke', 1),\n",
       " ('beneke', 1),\n",
       " ('door-step', 1)]"
      ]
     },
     "execution_count": 18,
     "metadata": {},
     "output_type": "execute_result"
    }
   ],
   "source": [
    "frequency_dist_nostop.most_common()[-5:]"
   ]
  },
  {
   "cell_type": "code",
   "execution_count": 19,
   "metadata": {},
   "outputs": [
    {
     "data": {
      "image/png": "[encoded data removed]",
      "text/plain": [
       "<Figure size 432x288 with 1 Axes>"
      ]
     },
     "metadata": {
      "needs_background": "light"
     },
     "output_type": "display_data"
    },
    {
     "data": {
      "text/plain": [
       "<AxesSubplot:xlabel='Samples', ylabel='Counts'>"
      ]
     },
     "execution_count": 19,
     "metadata": {},
     "output_type": "execute_result"
    }
   ],
   "source": [
    "frequency_dist_nostop.plot(50)"
   ]
  },
  {
   "cell_type": "code",
   "execution_count": 20,
   "metadata": {},
   "outputs": [
    {
     "data": {
      "image/png": "[encoded data removed]",
      "text/plain": [
       "<Figure size 432x288 with 1 Axes>"
      ]
     },
     "metadata": {
      "needs_background": "light"
     },
     "output_type": "display_data"
    },
    {
     "data": {
      "text/plain": [
       "<AxesSubplot:xlabel='Samples', ylabel='Cumulative Counts'>"
      ]
     },
     "execution_count": 20,
     "metadata": {},
     "output_type": "execute_result"
    }
   ],
   "source": [
    "frequency_dist_nostop.plot(50, cumulative=True)"
   ]
  },
  {
   "cell_type": "markdown",
   "metadata": {},
   "source": [
    "Zipf's law seems like it is still in place. When we look at the top 10 words we can already see something interesting. For example, the word \"say\" is used most often. If you think about fairy tales this makes sense; most sentences are in the form of \"blablabla said the pricess\". Lemmatized this is then \"say\". The other interesting token is \"king\". Since this token is associated with a specific gender/sex, and is used so often, we can expect that there are certain words associated with this token. "
   ]
  },
  {
   "cell_type": "markdown",
   "metadata": {},
   "source": [
    "# Building n-grams"
   ]
  },
  {
   "cell_type": "markdown",
   "metadata": {},
   "source": [
    "As part of our research, we are using an n-gram model for sentence generation and hope to find that the model is perhaps biased or not. To do so, some code was borrowed and adapted from: https://github.com/olegborisovv/NGram_LanguageModel\n",
    "\n"
   ]
  },
  {
   "cell_type": "code",
   "execution_count": 21,
   "metadata": {},
   "outputs": [
    {
     "data": {
      "text/plain": [
       "['hansel', 'grethel', 'brothers', 'grimm', 'hard']"
      ]
     },
     "execution_count": 21,
     "metadata": {},
     "output_type": "execute_result"
    }
   ],
   "source": [
    "test = filtered_sentence[:5]\n",
    "test"
   ]
  },
  {
   "cell_type": "code",
   "execution_count": 22,
   "metadata": {},
   "outputs": [],
   "source": [
    "def get_ngrams(n, tokens):\n",
    "    \"\"\"\n",
    "    :param n: n-gram size\n",
    "    :param tokens: tokenized sentence\n",
    "    :return: list of ngrams\n",
    "    ngrams of tuple form: ((previous wordS!), target word)\n",
    "    \"\"\"\n",
    "    tokens = (n-1)*['<START>']+tokens\n",
    "    l = [(tuple([tokens[i-p-1] for p in reversed(range(n-1))]), tokens[i]) for i in range(n-1, len(tokens))]\n",
    "    return l"
   ]
  },
  {
   "cell_type": "code",
   "execution_count": 23,
   "metadata": {},
   "outputs": [
    {
     "data": {
      "text/plain": [
       "[(('<START>', '<START>'), 'hansel'),\n",
       " (('<START>', 'hansel'), 'grethel'),\n",
       " (('hansel', 'grethel'), 'brothers'),\n",
       " (('grethel', 'brothers'), 'grimm'),\n",
       " (('brothers', 'grimm'), 'hard')]"
      ]
     },
     "execution_count": 23,
     "metadata": {},
     "output_type": "execute_result"
    }
   ],
   "source": [
    "get_ngrams(3, test)"
   ]
  },
  {
   "cell_type": "markdown",
   "metadata": {},
   "source": [
    "I quickly tested the funtion above to see if it indeed works as it is supposed to. "
   ]
  },
  {
   "cell_type": "markdown",
   "metadata": {},
   "source": [
    "For this part of the assignment, an additional dataset was used; the anderongrimm.txt file in the repositor contains stories of Anderson and Grimm and is not preprocessed. "
   ]
  },
  {
   "cell_type": "code",
   "execution_count": 24,
   "metadata": {},
   "outputs": [
    {
     "name": "stdout",
     "output_type": "stream",
     "text": [
      "Then the king ' s son waited till her father came home , and told him that the unknown maiden who had been at the feast had hidden herself in the pigeon - house . \" That is the tune I know , \" she exclaimed . Jurgen did not understand the reason of this , but he thought it would be best to turn back , and therefore he himself took an oar and returned . They were telling each other where they had been during the day . Yes , he must be there . \" Oh , now I have no horse at all , \" said Little Claus , weeping . It was , in this transformation , as if two natures were striving together within her ; her whole frame trembled , and she looked around her as if she had just awoke from a painful dream . Sleep was still in his eyes , but yet he crowed out : \" Three hens have died of their unfortunate love for a cock . With the rod knock thrice at the iron door of the castle , and it will spring open . She bent\n",
      "==================================================\n",
      "\" They say at home , \" said the little boy , taking it up and looking at it . \" Just then it came into his mind that he would stoop under the table , and so creep to the door . Believe me , the time will come when you will be old , and your sinews will shrink , and then , on some fine sunshiny day , when everything is laughing and rejoicing , you will lie there a faded plant , that will grow no more . The streets were rather irregular , it is true , but still this added to their picturesque appearance . Here , in the market - place , stood Knud , with his knapsack on his back , close to one of the old fountains which are so beautifully adorned with figures , scriptural and historical , and which spring up between the sparkling jets of water . âLet us drink claret and mead , and Bremen beer , â shouted one of the guestsââand you shall drink with us ! â Two maidens approached . âIt is really dreadful , â groaned he with increasing anxiety ; âI\n",
      "==================================================\n",
      "You will become ill by it . And the nightingale flew away , and time flew away also . A Russian bath would be a very good thing to begin with . If you understand the crows ' language then I can explain it better . The roof of each house is overgrown with moss and with yellow flowers and houseleek . \" Conceit ! Foolery ! \" is the cry . I mean that which mankind call the beautiful . \" Then the sunbeam kissed the lowly flower , and he kissed the blooming apple - branch , upon whose leaves appeared a rosy blush . The Emperor now sent another officer of his court to see how the men were getting on , and to ascertain whether the cloth would soon be ready . \" I was born and brought up there , and used to run about the snow - covered plains . If you will weep those eyes away in tears into my waters , then I will take you to the large hothouse where Death dwells and rears flowers and trees , every one of which is a human life . The gentlemen were also\n",
      "==================================================\n",
      "\" Karen believed that this was all on account of the red shoes , but the old lady thought they were horrible , and they were burnt . The time passed slowly and painfully . When they arrived at the bush with red berries , there stood the reindeer waiting for them , and he had brought another young reindeer with him , whose udders were full , and the children drank her warm milk and kissed her on the mouth . I would give up my doll and all my playthings , if she could only come here again . Nothing more is necessary , only to stir it . In the afternoon , the old lady heard from everyone that the shoes had been red , and she said that it was very wrong of Karen , that it was not at all becoming , and that in future Karen should only go in black shoes to church , even when she should be older . \" Brave ! brave ! \" they cried . After consulting together , they determined to bind together two more ladders , and to hoist them over the cavity , and so\n",
      "==================================================\n",
      "\" \" Inkpot ! \" exclaimed the pen contemptuously . It is a dangerous game , for one can easily catch cold and die from fever , and both of these are dead already . And when the psalms of the Christians sound across the churchyard , their echo reaches her lonely resting - place ; and she who sleeps there will be counted worthy at the resurrection , through the name of Christ the Lord , who said to His disciples , \" John baptized you with water , but I will baptize you with the Holy Ghost . And all was over with the casket , for Kaela died . ' â âBut Kayâlittle Kay , â said Gerda , âwhen did he come ? Was he among the number ? â âPatience , patience ; we are just come to him . \" And those whose names end with ' sen , ' \" said she , \" can never be anything at all . âI saw everything , and I shall tell all to you : butâit is no pride on my partâas a free man , and with the knowledge I have , not to\n",
      "==================================================\n",
      "One of them wrote verses about the bell , and said that it was like the voice of a mother speaking to an intelligent and beloved child ; no tune , he said , was sweeter than the sound of the bell . \" \" And perhaps break it off , \" said the mamma stork , \" then what a sight you would be . \" \" Charming ! \" said the General . But she was full of mystery about her art , in which a certain pair of magic spectacles did her essential service . \" \" You may get a fool to believe that , \" cried Mother Soren ; and she got up and went into the room where the child lay . I should like to go out a little . Our little bird flew away into the public roads , and found here and there , in the ruts of the sledges , a grain of corn , and at the halting places some crumbs . Then their father told them that in the world there was nothing but toil and difficulty : that it was not quite what it appeared to them\n",
      "==================================================\n",
      "The struggles of life which arouse sensations in the bosom have their type in the tiny flowers . The door was opened , and he was led forth , and fixed his eyes upon my round disc . Thumbling had great difficulty in working his way out ; however , he succeeded so far as to get some room , but , just as he was going to thrust his head out , a new misfortune occurred . âPoor thing , â said the Lapland woman , âyou have far to run still . \" \" But only for one day , and then it is all over . \" Have you obtained an appointment here in the city ? \" asked the sparrows . \" I am a straightforward girl , \" she said , \" and it was burning directly , and the curtain was burning too . Out in the river lay the ships , icebound , and forsaken by their crews ; a screaming crow represented the only living creature on board . The world could get on without men . He was , even then , a man of good means . The wind still\n",
      "==================================================\n",
      "At home the beautiful wife prayed for her husband and her father . Their clothes were very delicate and fine , for they were made of the leaves of flowers , trimmed with the wings of flies and gnats , which had not a bad effect . They took each other ' s hand , and at that moment the door of one of the houses opened , and the neighbour appeared . â âPrude ! â exclaimed the collar ; and then it was taken out of the washing - tub . There is an old legend about a saint who was allowed to choose one of the seven deadly sins , and who accordingly chose drunkenness , which appeared to him the least , but which led him to commit all the other six . \" And she gave Vertigo the commission . I am a happy director ; for none of my company ever grumble , nor the public either , for I always make them merry . âTo travel ! to travel ! â exclaimed he , overcome by most painful and passionate remembrances . But he did not despair . This was capital . The\n",
      "==================================================\n"
     ]
    }
   ],
   "source": [
    "import string\n",
    "import random\n",
    "import time\n",
    "from typing import List\n",
    "\n",
    "# ideally we would use some smart text tokenizer, but for simplicity use this one\n",
    "def tokenize(text: str) -> List[str]:\n",
    "    \"\"\"\n",
    "    :param text: Takes input sentence\n",
    "    :return: tokenized sentence\n",
    "    \"\"\"\n",
    "    for punct in string.punctuation:\n",
    "        text = text.replace(punct, ' '+punct+' ')\n",
    "    t = text.split()\n",
    "    return t\n",
    "\n",
    "def get_ngrams(n: int, tokens: list) -> list:\n",
    "    \"\"\"\n",
    "    :param n: n-gram size\n",
    "    :param tokens: tokenized sentence\n",
    "    :return: list of ngrams\n",
    "    ngrams of tuple form: ((previous wordS!), target word)\n",
    "    \"\"\"\n",
    "    # tokens.append('<END>')\n",
    "    tokens = (n-1)*['<START>']+tokens\n",
    "    l = [(tuple([tokens[i-p-1] for p in reversed(range(n-1))]), tokens[i]) for i in range(n-1, len(tokens))]\n",
    "    return l\n",
    "\n",
    "\n",
    "class NgramModel(object):\n",
    "\n",
    "    def __init__(self, n):\n",
    "        self.n = n\n",
    "\n",
    "        # dictionary that keeps list of candidate words given context\n",
    "        self.context = {}\n",
    "\n",
    "        # keeps track of how many times ngram has appeared in the text before\n",
    "        self.ngram_counter = {}\n",
    "\n",
    "    def update(self, sentence: str) -> None:\n",
    "        \"\"\"\n",
    "        Updates Language Model\n",
    "        :param sentence: input text\n",
    "        \"\"\"\n",
    "        n = self.n\n",
    "        ngrams = get_ngrams(n, tokenize(sentence))\n",
    "        for ngram in ngrams:\n",
    "            if ngram in self.ngram_counter:\n",
    "                self.ngram_counter[ngram] += 1.0\n",
    "            else:\n",
    "                self.ngram_counter[ngram] = 1.0\n",
    "\n",
    "            prev_words, target_word = ngram\n",
    "            if prev_words in self.context:\n",
    "                self.context[prev_words].append(target_word)\n",
    "            else:\n",
    "                self.context[prev_words] = [target_word]\n",
    "\n",
    "    def prob(self, context, token):\n",
    "        \"\"\"\n",
    "        Calculates probability of a candidate token to be generated given a context\n",
    "        :return: conditional probability\n",
    "        \"\"\"\n",
    "        try:\n",
    "            count_of_token = self.ngram_counter[(context, token)]\n",
    "            count_of_context = float(len(self.context[context]))\n",
    "            result = count_of_token / count_of_context\n",
    "\n",
    "        except KeyError:\n",
    "            result = 0.0\n",
    "        return result\n",
    "\n",
    "    def random_token(self, context):\n",
    "        \"\"\"\n",
    "        Given a context we \"semi-randomly\" select the next word to append in a sequence\n",
    "        :param context:\n",
    "        :return:\n",
    "        \"\"\"\n",
    "        r = random.random()\n",
    "        map_to_probs = {}\n",
    "        token_of_interest = self.context[context]\n",
    "        for token in token_of_interest:\n",
    "            map_to_probs[token] = self.prob(context, token)\n",
    "\n",
    "        summ = 0\n",
    "        for token in sorted(map_to_probs):\n",
    "            summ += map_to_probs[token]\n",
    "            if summ > r:\n",
    "                return token\n",
    "\n",
    "    def generate_text(self, token_count: int):\n",
    "        \"\"\"\n",
    "        :param token_count: number of words to be produced\n",
    "        :return: generated text\n",
    "        \"\"\"\n",
    "        n = self.n\n",
    "        context_queue = (n - 1) * ['<START>']\n",
    "        result = []\n",
    "        for _ in range(token_count):\n",
    "            obj = self.random_token(tuple(context_queue))\n",
    "            result.append(obj)\n",
    "            if n > 1:\n",
    "                context_queue.pop(0)\n",
    "                if obj == '.':\n",
    "                    context_queue = (n - 1) * ['<START>']\n",
    "                else:\n",
    "                    context_queue.append(obj)\n",
    "        return ' '.join(result)\n",
    "\n",
    "\n",
    "def create_ngram_model(n, path):\n",
    "    m = NgramModel(n)\n",
    "    with open(path, 'r', encoding=\"latin-1\") as f:\n",
    "        text = f.read()\n",
    "        text = text.split('.')\n",
    "        for sentence in text:\n",
    "            # add back the fullstop\n",
    "            sentence += '.'\n",
    "            m.update(sentence)\n",
    "    return m\n",
    "\n",
    "if __name__ == \"__main__\":\n",
    "    for n in range(8):\n",
    "        start = time.time()\n",
    "        m = create_ngram_model(8, 'andersongrimm.txt')\n",
    "        #print(f'n = {n}')\n",
    "        #print (f'Language Model creating time: {time.time() - start}')\n",
    "        start = time.time()\n",
    "        random.seed(n)\n",
    "        #print('Generated text:')\n",
    "        print(m.generate_text(200))\n",
    "        print(f'{\"=\"*50}')"
   ]
  },
  {
   "cell_type": "markdown",
   "metadata": {},
   "source": [
    "As can be seen, the model is able to generate some texts, which do have some biases in them; \"at home the beautiful wife prayed....\""
   ]
  },
  {
   "cell_type": "markdown",
   "metadata": {},
   "source": [
    "# Showing frequent bigrams"
   ]
  },
  {
   "cell_type": "markdown",
   "metadata": {},
   "source": [
    "Now we'll look at some bigrams and see if there are some obvious biases associated with gender. The code to generate the graph below is from: https://www.earthdatascience.org/courses/use-data-open-source-python/intro-to-apis/calculate-tweet-word-bigrams/"
   ]
  },
  {
   "cell_type": "code",
   "execution_count": 25,
   "metadata": {},
   "outputs": [],
   "source": [
    "import os\n",
    "import numpy as np\n",
    "import pandas as pd\n",
    "import matplotlib.pyplot as plt\n",
    "import seaborn as sns\n",
    "import itertools\n",
    "import collections\n",
    "\n",
    "import nltk\n",
    "from nltk import bigrams\n",
    "from nltk.corpus import stopwords\n",
    "import re\n",
    "import networkx as nx\n",
    "\n",
    "import warnings\n",
    "warnings.filterwarnings(\"ignore\")\n",
    "\n",
    "sns.set(font_scale=1.5)\n",
    "sns.set_style(\"whitegrid\")"
   ]
  },
  {
   "cell_type": "code",
   "execution_count": 26,
   "metadata": {},
   "outputs": [
    {
     "data": {
      "text/plain": [
       "[('hansel', 'grethel'),\n",
       " ('grethel', 'brothers'),\n",
       " ('brothers', 'grimm'),\n",
       " ('grimm', 'hard'),\n",
       " ('hard', 'great'),\n",
       " ('great', 'forest'),\n",
       " ('forest', 'dwell'),\n",
       " ('dwell', 'poor'),\n",
       " ('poor', 'wood-cutter'),\n",
       " ('wood-cutter', 'wife')]"
      ]
     },
     "execution_count": 26,
     "metadata": {},
     "output_type": "execute_result"
    }
   ],
   "source": [
    "# Create list of lists containing bigrams our processed list of stories\n",
    "terms_bigram = list(bigrams(filtered_sentence))\n",
    "terms_bigram[0:10]"
   ]
  },
  {
   "cell_type": "code",
   "execution_count": 27,
   "metadata": {},
   "outputs": [
    {
     "data": {
      "text/plain": [
       "[(('old', 'woman'), 5115),\n",
       " (('king', 'son'), 4249),\n",
       " (('king', 'daughter'), 3504),\n",
       " (('go', 'away'), 3315),\n",
       " (('thou', 'hast'), 3149),\n",
       " (('old', 'man'), 2958),\n",
       " (('thou', 'art'), 2710),\n",
       " (('brother', 'lustig'), 2418),\n",
       " (('thou', 'wilt'), 2289),\n",
       " (('one', 'day'), 2272),\n",
       " (('next', 'morning'), 2248),\n",
       " (('come', 'back'), 2215),\n",
       " (('brothers', 'grimm'), 2169),\n",
       " (('say', 'thou'), 2089),\n",
       " (('thou', 'shalt'), 2074),\n",
       " (('go', 'home'), 2033),\n",
       " (('st.', 'peter'), 2017),\n",
       " (('ev', 'ry'), 1999),\n",
       " (('long', 'time'), 1949),\n",
       " (('thou', 'must'), 1743)]"
      ]
     },
     "execution_count": 27,
     "metadata": {},
     "output_type": "execute_result"
    }
   ],
   "source": [
    "# Create counter of words in bigrams\n",
    "bigram_counts = collections.Counter(terms_bigram)\n",
    "\n",
    "bigram_counts.most_common(20)"
   ]
  },
  {
   "cell_type": "code",
   "execution_count": 29,
   "metadata": {},
   "outputs": [
    {
     "data": {
      "text/html": [
       "<div>\n",
       "<style scoped>\n",
       "    .dataframe tbody tr th:only-of-type {\n",
       "        vertical-align: middle;\n",
       "    }\n",
       "\n",
       "    .dataframe tbody tr th {\n",
       "        vertical-align: top;\n",
       "    }\n",
       "\n",
       "    .dataframe thead th {\n",
       "        text-align: right;\n",
       "    }\n",
       "</style>\n",
       "<table border=\"1\" class=\"dataframe\">\n",
       "  <thead>\n",
       "    <tr style=\"text-align: right;\">\n",
       "      <th></th>\n",
       "      <th>bigram</th>\n",
       "      <th>count</th>\n",
       "    </tr>\n",
       "  </thead>\n",
       "  <tbody>\n",
       "    <tr>\n",
       "      <th>0</th>\n",
       "      <td>(old, woman)</td>\n",
       "      <td>5115</td>\n",
       "    </tr>\n",
       "    <tr>\n",
       "      <th>1</th>\n",
       "      <td>(king, son)</td>\n",
       "      <td>4249</td>\n",
       "    </tr>\n",
       "    <tr>\n",
       "      <th>2</th>\n",
       "      <td>(king, daughter)</td>\n",
       "      <td>3504</td>\n",
       "    </tr>\n",
       "    <tr>\n",
       "      <th>3</th>\n",
       "      <td>(go, away)</td>\n",
       "      <td>3315</td>\n",
       "    </tr>\n",
       "    <tr>\n",
       "      <th>4</th>\n",
       "      <td>(thou, hast)</td>\n",
       "      <td>3149</td>\n",
       "    </tr>\n",
       "    <tr>\n",
       "      <th>...</th>\n",
       "      <td>...</td>\n",
       "      <td>...</td>\n",
       "    </tr>\n",
       "    <tr>\n",
       "      <th>195</th>\n",
       "      <td>(nothing, say)</td>\n",
       "      <td>433</td>\n",
       "    </tr>\n",
       "    <tr>\n",
       "      <th>196</th>\n",
       "      <td>(light, fire)</td>\n",
       "      <td>432</td>\n",
       "    </tr>\n",
       "    <tr>\n",
       "      <th>197</th>\n",
       "      <td>(many, year)</td>\n",
       "      <td>432</td>\n",
       "    </tr>\n",
       "    <tr>\n",
       "      <th>198</th>\n",
       "      <td>(say, wife)</td>\n",
       "      <td>431</td>\n",
       "    </tr>\n",
       "    <tr>\n",
       "      <th>199</th>\n",
       "      <td>(take, back)</td>\n",
       "      <td>430</td>\n",
       "    </tr>\n",
       "  </tbody>\n",
       "</table>\n",
       "<p>200 rows × 2 columns</p>\n",
       "</div>"
      ],
      "text/plain": [
       "               bigram  count\n",
       "0        (old, woman)   5115\n",
       "1         (king, son)   4249\n",
       "2    (king, daughter)   3504\n",
       "3          (go, away)   3315\n",
       "4        (thou, hast)   3149\n",
       "..                ...    ...\n",
       "195    (nothing, say)    433\n",
       "196     (light, fire)    432\n",
       "197      (many, year)    432\n",
       "198       (say, wife)    431\n",
       "199      (take, back)    430\n",
       "\n",
       "[200 rows x 2 columns]"
      ]
     },
     "execution_count": 29,
     "metadata": {},
     "output_type": "execute_result"
    }
   ],
   "source": [
    "bigram_df = pd.DataFrame(bigram_counts.most_common(200),\n",
    "                             columns=['bigram', 'count'])\n",
    "\n",
    "bigram_df"
   ]
  },
  {
   "cell_type": "code",
   "execution_count": 30,
   "metadata": {},
   "outputs": [],
   "source": [
    "# Create dictionary of bigrams and their counts\n",
    "d = bigram_df.set_index('bigram').T.to_dict('records')"
   ]
  },
  {
   "cell_type": "code",
   "execution_count": 31,
   "metadata": {},
   "outputs": [],
   "source": [
    "# Create network plot \n",
    "G = nx.Graph()\n",
    "\n",
    "# Create connections between nodes\n",
    "for k, v in d[0].items():\n",
    "    G.add_edge(k[0], k[1], weight=(v * 10))\n"
   ]
  },
  {
   "cell_type": "code",
   "execution_count": 32,
   "metadata": {},
   "outputs": [
    {
     "data": {
      "image/png": "[encoded data removed]",
      "text/plain": [
       "<Figure size 720x576 with 1 Axes>"
      ]
     },
     "metadata": {},
     "output_type": "display_data"
    }
   ],
   "source": [
    "fig, ax = plt.subplots(figsize=(10, 8))\n",
    "\n",
    "pos = nx.spring_layout(G, k=2)\n",
    "\n",
    "# Plot networks\n",
    "nx.draw_networkx(G, pos,\n",
    "                 font_size=16,\n",
    "                 width=3,\n",
    "                 edge_color='grey',\n",
    "                 node_color='purple',\n",
    "                 with_labels = False,\n",
    "                 ax=ax)\n",
    "\n",
    "# Create offset labels\n",
    "for key, value in pos.items():\n",
    "    x, y = value[0]+.135, value[1]+.045\n",
    "    ax.text(x, y,\n",
    "            s=key,\n",
    "            bbox=dict(facecolor='red', alpha=0.25),\n",
    "            horizontalalignment='center', fontsize=13)\n",
    "    \n",
    "plt.show()"
   ]
  },
  {
   "cell_type": "code",
   "execution_count": 33,
   "metadata": {},
   "outputs": [],
   "source": [
    "def select_bigrams(bigrams_list, token_list):\n",
    "    selected_bigrams = []\n",
    "    for tup in bigrams_list:\n",
    "        for token in token_list:\n",
    "            if token in tup:\n",
    "                selected_bigrams.append(tup)\n",
    "    return selected_bigrams"
   ]
  },
  {
   "cell_type": "code",
   "execution_count": 34,
   "metadata": {},
   "outputs": [],
   "source": [
    "token_list = [\"wife\", \"husband\", \"son\", \"daughter\", \"king\", \"queen\", \"prince\", \"princess\", \"brother\", \"sister\", \"mother\", \"father\", \"woman\", \"man\", \"lady\", \"gentleman\", \"gentlemen\", \"maiden\", \"girl\", \"boy\"]\n",
    "token_list_male = [\"husband\", \"son\", \"king\", \"prince\", \"brother\", \"father\", \"man\", \"gentleman\", \"gentlemen\", \"bachelor\", \"boy\"]\n",
    "token_list_female = [\"wife\", \"daughter\", \"queen\", \"princess\", \"sister\", \"mother\", \"woman\", \"lady\", \"maiden\", \"girl\"]"
   ]
  },
  {
   "cell_type": "code",
   "execution_count": 35,
   "metadata": {},
   "outputs": [],
   "source": [
    "selection_full = select_bigrams(terms_bigram, token_list)\n",
    "selection_female = select_bigrams(terms_bigram, token_list_female)\n",
    "selection_male = select_bigrams(terms_bigram, token_list_male)"
   ]
  },
  {
   "cell_type": "code",
   "execution_count": 36,
   "metadata": {},
   "outputs": [
    {
     "data": {
      "text/plain": [
       "[('wood-cutter', 'wife'),\n",
       " ('wife', 'two'),\n",
       " ('hansel', 'girl'),\n",
       " ('girl', 'grethel'),\n",
       " ('say', 'wife'),\n",
       " ('wife', 'become'),\n",
       " ('answer', 'woman'),\n",
       " ('woman', 'early'),\n",
       " ('rid', 'wife'),\n",
       " ('wife', 'say'),\n",
       " ('little', 'sister'),\n",
       " ('sister', 'sleep'),\n",
       " ('rise', 'woman'),\n",
       " ('woman', 'come'),\n",
       " ('good-bye', 'wife'),\n",
       " ('wife', 'say'),\n",
       " ('high', 'woman'),\n",
       " ('woman', 'say'),\n",
       " ('little', 'sister'),\n",
       " ('sister', 'hand')]"
      ]
     },
     "execution_count": 36,
     "metadata": {},
     "output_type": "execute_result"
    }
   ],
   "source": [
    "selection_female[:20]"
   ]
  },
  {
   "cell_type": "code",
   "execution_count": 37,
   "metadata": {},
   "outputs": [
    {
     "data": {
      "text/plain": [
       "[('child', 'boy'),\n",
       " ('boy', 'call'),\n",
       " ('tell', 'husband'),\n",
       " ('husband', 'answer'),\n",
       " ('say', 'man'),\n",
       " ('man', 'bear'),\n",
       " ('say', 'man'),\n",
       " ('man', 'two'),\n",
       " ('say', 'father'),\n",
       " ('father', 'grethel'),\n",
       " ('house', 'father'),\n",
       " ('father', 'say'),\n",
       " ('ah', 'father'),\n",
       " ('father', 'say'),\n",
       " ('forest', 'father'),\n",
       " ('father', 'say'),\n",
       " ('believe', 'father'),\n",
       " ('father', 'however'),\n",
       " ('come', 'father'),\n",
       " ('father', 'house')]"
      ]
     },
     "execution_count": 37,
     "metadata": {},
     "output_type": "execute_result"
    }
   ],
   "source": [
    "selection_male[:20]"
   ]
  },
  {
   "cell_type": "code",
   "execution_count": 38,
   "metadata": {},
   "outputs": [
    {
     "data": {
      "text/plain": [
       "[(('king', 'son'), 8498),\n",
       " (('king', 'daughter'), 7008),\n",
       " (('old', 'woman'), 5115),\n",
       " (('old', 'man'), 2958),\n",
       " (('brother', 'lustig'), 2418),\n",
       " (('say', 'king'), 1615),\n",
       " (('king', 'say'), 1598),\n",
       " (('father', 'mother'), 1192),\n",
       " (('say', 'father'), 1176),\n",
       " (('prince', 'ahmed'), 1111),\n",
       " (('king', 'persia'), 936),\n",
       " (('young', 'man'), 888),\n",
       " (('man', 'say'), 868),\n",
       " (('say', 'man'), 846),\n",
       " (('daughter', 'wife'), 770),\n",
       " (('king', 'queen'), 764),\n",
       " (('say', 'brother'), 728),\n",
       " (('queen', 'mother'), 722),\n",
       " (('king', 'father'), 704),\n",
       " (('king', 'beder'), 672)]"
      ]
     },
     "execution_count": 38,
     "metadata": {},
     "output_type": "execute_result"
    }
   ],
   "source": [
    "counts = collections.Counter(selection_full)\n",
    "counts.most_common(20)"
   ]
  },
  {
   "cell_type": "code",
   "execution_count": 39,
   "metadata": {},
   "outputs": [
    {
     "data": {
      "text/plain": [
       "[(('old', 'woman'), 5115),\n",
       " (('king', 'daughter'), 3504),\n",
       " (('daughter', 'wife'), 770),\n",
       " (('queen', 'mother'), 722),\n",
       " (('mother', 'say'), 616),\n",
       " (('daughter', 'say'), 613),\n",
       " (('father', 'mother'), 596),\n",
       " (('woman', 'say'), 569),\n",
       " (('queen', 'gulnare'), 560),\n",
       " (('say', 'mother'), 494),\n",
       " (('woman', 'come'), 485),\n",
       " (('little', 'girl'), 484),\n",
       " (('say', 'girl'), 472),\n",
       " (('wife', 'say'), 436),\n",
       " (('say', 'wife'), 431),\n",
       " (('beautiful', 'maiden'), 409),\n",
       " (('king', 'queen'), 382),\n",
       " (('give', 'daughter'), 379),\n",
       " (('go', 'mother'), 363),\n",
       " (('say', 'maiden'), 362)]"
      ]
     },
     "execution_count": 39,
     "metadata": {},
     "output_type": "execute_result"
    }
   ],
   "source": [
    "counts_female = collections.Counter(selection_female)\n",
    "counts_female.most_common(20)"
   ]
  },
  {
   "cell_type": "code",
   "execution_count": 40,
   "metadata": {},
   "outputs": [
    {
     "data": {
      "text/plain": [
       "[(('king', 'son'), 8498),\n",
       " (('king', 'daughter'), 3504),\n",
       " (('old', 'man'), 2958),\n",
       " (('brother', 'lustig'), 2418),\n",
       " (('say', 'king'), 1615),\n",
       " (('king', 'say'), 1598),\n",
       " (('say', 'father'), 1176),\n",
       " (('prince', 'ahmed'), 1111),\n",
       " (('king', 'persia'), 936),\n",
       " (('young', 'man'), 888),\n",
       " (('man', 'say'), 868),\n",
       " (('say', 'man'), 846),\n",
       " (('say', 'brother'), 728),\n",
       " (('king', 'father'), 704),\n",
       " (('king', 'beder'), 672),\n",
       " (('vizier', 'son'), 661),\n",
       " (('king', 'saleh'), 624),\n",
       " (('dragon', 'king'), 621),\n",
       " (('son', 'king'), 600),\n",
       " (('father', 'mother'), 596)]"
      ]
     },
     "execution_count": 40,
     "metadata": {},
     "output_type": "execute_result"
    }
   ],
   "source": [
    "counts_male = collections.Counter(selection_male)\n",
    "counts_male.most_common(20)"
   ]
  },
  {
   "cell_type": "markdown",
   "metadata": {},
   "source": [
    "Based on what we can see of the bigrams, there is not much bias to be found. Apparently it is common to have and old man or woman and an ill queen or king, but there is not much to say for strict biases. The only bigram that could be considered a bias is the \"beautiful maidens\". "
   ]
  },
  {
   "cell_type": "markdown",
   "metadata": {},
   "source": [
    "# Word Embeddings"
   ]
  },
  {
   "cell_type": "markdown",
   "metadata": {},
   "source": [
    "To create word embeddings we will first look at the surface co-occurence counts between a target word and a contextual word, by counting how many times a contextual word occurs in a collocational span surrounding the target word, in a symmetric 5 word span. \n",
    "\n",
    "We will look at nouns, since these include the gendered nouns such as boy/girl or prince/princess and can shows us which words are most often used around them."
   ]
  },
  {
   "cell_type": "code",
   "execution_count": 41,
   "metadata": {},
   "outputs": [],
   "source": [
    "#We first make a list without the stopwords like in filtered_sentence, but with the PoS-tagging\n",
    "\n",
    "filtered_words = []\n",
    "for token in filtered_list:\n",
    "    check = token.split(\"/\")[0]\n",
    "    if not check in stop_words:\n",
    "        filtered_words.append(token)"
   ]
  },
  {
   "cell_type": "code",
   "execution_count": 42,
   "metadata": {},
   "outputs": [
    {
     "data": {
      "text/plain": [
       "['hansel/nnp',\n",
       " 'grethel/nnp',\n",
       " 'brothers/nnps',\n",
       " 'grimm/nnp',\n",
       " 'hard/nnp',\n",
       " 'great/jj',\n",
       " 'forest/nn',\n",
       " 'dwell/vbd',\n",
       " 'poor/jj',\n",
       " 'wood-cutter/nn']"
      ]
     },
     "execution_count": 42,
     "metadata": {},
     "output_type": "execute_result"
    }
   ],
   "source": [
    "filtered_words[:10]"
   ]
  },
  {
   "cell_type": "code",
   "execution_count": 43,
   "metadata": {},
   "outputs": [],
   "source": [
    "from itertools import permutations\n",
    "from collections import Counter\n",
    "\n",
    "spansize = 5\n",
    "\n",
    "cooccs_surface = Counter()\n",
    "\n",
    "for index, word in enumerate(filtered_words):\n",
    "    if word.split(\"/\")[-1][:2] == \"nn\":\n",
    "        span_range = list(range(max(index- spansize, 0), index)) # left side indices (range, then list so we can extend)\n",
    "        span_range.extend(range(index+1, min(index + spansize + 1, len(filtered_words)))) # extend by right side indices\n",
    "        for cooc_word in [filtered_words[idx] for idx in span_range]:\n",
    "            cooccs_surface[(word, cooc_word)] += 1        "
   ]
  },
  {
   "cell_type": "code",
   "execution_count": 44,
   "metadata": {},
   "outputs": [
    {
     "data": {
      "text/plain": [
       "[(('king/nnp', 'say/vbd'), 7044),\n",
       " (('thou/nn', 'say/vbd'), 6609),\n",
       " (('woman/nn', 'old/jj'), 5623),\n",
       " (('king/nnp', 'son/nn'), 5108),\n",
       " (('son/nn', 'king/nnp'), 5108),\n",
       " (('king/nnp', 'daughter/nn'), 4938),\n",
       " (('daughter/nn', 'king/nnp'), 4938),\n",
       " (('man/nn', 'say/vbd'), 4629),\n",
       " (('thou/nn', 'thou/nn'), 4360),\n",
       " (('man/nn', 'old/jj'), 3800)]"
      ]
     },
     "execution_count": 44,
     "metadata": {},
     "output_type": "execute_result"
    }
   ],
   "source": [
    "cooccs_surface.most_common(10)"
   ]
  },
  {
   "cell_type": "markdown",
   "metadata": {},
   "source": [
    "Next we want to filter out some very infrequent contextual items, since they do not add relevant information and only slow down the computation. \n",
    "\n",
    "We do this by first making a frequency list of the words and then plot the frequencies on a logarithmic scale to decide which frequency threshold we shall use."
   ]
  },
  {
   "cell_type": "code",
   "execution_count": 45,
   "metadata": {},
   "outputs": [
    {
     "name": "stdout",
     "output_type": "stream",
     "text": [
      "[('whet/vbz', 1), ('kitchen-sink/jj', 1), ('door-step/nn', 1), ('stranger/vbz', 1), ('straw/vbd', 1), ('beneke/nnp', 1), ('eneke/nnp', 1), ('lambkin/nnp', 1), ('woo/vbn', 1), ('span/vbp', 1), ('negligent/jj', 1), ('porridge/nnp', 1), ('laziest/jjs', 1), ('sluggards/nnp', 1), ('interfere/vb', 1), ('subject/vbn', 1), ('hadi/nnp', 1), ('dom/nnp', 1), ('intoxicated/jj', 1), ('request/vbn', 1)]\n"
     ]
    }
   ],
   "source": [
    "from itertools import chain\n",
    "import numpy as np\n",
    "import matplotlib.pyplot as plt\n",
    "\n",
    "words_frequencies = Counter(chain(filtered_words))\n",
    "print(list(reversed(words_frequencies.most_common()))[:20])"
   ]
  },
  {
   "cell_type": "code",
   "execution_count": 46,
   "metadata": {},
   "outputs": [
    {
     "data": {
      "image/png": "[encoded data removed]",
      "text/plain": [
       "<Figure size 432x288 with 1 Axes>"
      ]
     },
     "metadata": {},
     "output_type": "display_data"
    }
   ],
   "source": [
    "x = np.arange(1, len(words_frequencies) + 1)\n",
    "y = np.array(sorted(words_frequencies.values(), reverse = True))\n",
    "\n",
    "plt.plot(x, y)\n",
    "\n",
    "plt.yscale('log') \n",
    "\n",
    "plt.show()"
   ]
  },
  {
   "cell_type": "markdown",
   "metadata": {},
   "source": [
    "From this plot we decided to only use co-occurence words with a frequency of 10 or more.\n",
    "\n",
    "We make a counter from these words and filter coocs_surface to only contain co-occurences with these words. We also remove these least frequent words from the nouns that we will look at since they also will not add any extra information."
   ]
  },
  {
   "cell_type": "code",
   "execution_count": 47,
   "metadata": {},
   "outputs": [
    {
     "name": "stdout",
     "output_type": "stream",
     "text": [
      ">> 16671 context lemmas\n",
      "[('say/vbd', 60060), ('one/cd', 28382), ('go/vbd', 24434), ('come/vbd', 24318), ('would/md', 24053), ('king/nnp', 23820), ('little/jj', 19560), ('could/md', 19351), ('old/jj', 16286), ('go/vb', 15576), ('man/nn', 15372), ('thou/nn', 14754), ('time/nn', 14623), ('great/jj', 14513), ('take/vbd', 14343), ('away/rb', 14078), ('must/md', 13149), ('see/vbd', 12503), ('two/cd', 11884), ('father/nn', 11482)]\n"
     ]
    }
   ],
   "source": [
    "filtered_cooc_frequencies = Counter()\n",
    "selected_noun_frequencies = Counter()\n",
    "\n",
    "for word, frequency in words_frequencies.items():\n",
    "    pos = word.split(\"/\")[-1]\n",
    "    if frequency >= 10:\n",
    "        filtered_cooc_frequencies[word] = frequency\n",
    "        if pos[:2] == \"nn\":\n",
    "            selected_noun_frequencies[word] = frequency\n",
    "\n",
    "print(\">>\", len(filtered_cooc_frequencies), \"context lemmas\")\n",
    "print(filtered_cooc_frequencies.most_common(20))"
   ]
  },
  {
   "cell_type": "code",
   "execution_count": 48,
   "metadata": {},
   "outputs": [
    {
     "name": "stdout",
     "output_type": "stream",
     "text": [
      "8183 target nouns\n"
     ]
    }
   ],
   "source": [
    "print(len(selected_noun_frequencies), \"target nouns\")"
   ]
  },
  {
   "cell_type": "code",
   "execution_count": 49,
   "metadata": {},
   "outputs": [
    {
     "name": "stdout",
     "output_type": "stream",
     "text": [
      "[(('king/nnp', 'say/vbd'), 7044), (('thou/nn', 'say/vbd'), 6609), (('woman/nn', 'old/jj'), 5623), (('king/nnp', 'son/nn'), 5108), (('son/nn', 'king/nnp'), 5108), (('king/nnp', 'daughter/nn'), 4938), (('daughter/nn', 'king/nnp'), 4938), (('man/nn', 'say/vbd'), 4629), (('thou/nn', 'thou/nn'), 4360), (('man/nn', 'old/jj'), 3800), (('king/nnp', 'king/nnp'), 3382), (('father/nn', 'say/vbd'), 3191), (('day/nn', 'one/cd'), 3080), (('son/nn', 'say/vbd'), 3044), (('thee/nn', 'thee/nn'), 2788), (('woman/nn', 'say/vbd'), 2764), (('hast/nn', 'thou/nn'), 2749), (('thou/nn', 'hast/nn'), 2749), (('daughter/nn', 'say/vbd'), 2673), (('art/nn', 'thou/nn'), 2643)]\n"
     ]
    }
   ],
   "source": [
    "filtered_cooccs_surface = Counter()\n",
    "\n",
    "for words, frequency in cooccs_surface.items():\n",
    "    if words[0] in selected_noun_frequencies and words[1] in filtered_cooc_frequencies:\n",
    "        filtered_cooccs_surface[words] = frequency\n",
    "\n",
    "print(filtered_cooccs_surface.most_common(20))"
   ]
  },
  {
   "cell_type": "markdown",
   "metadata": {},
   "source": [
    "Below we made a function to print the 10 most co-occuring words for a given noun from our filtered_cooccs_surface, which we then tested on some general male and female words."
   ]
  },
  {
   "cell_type": "code",
   "execution_count": 114,
   "metadata": {},
   "outputs": [],
   "source": [
    "import heapq\n",
    "\n",
    "def ten_most_cooccs(word):\n",
    "    ten_most = []\n",
    "    while len(ten_most) < 20:\n",
    "        for words, frequency in filtered_cooccs_surface.items():\n",
    "            if words[0].split(\"/\")[0] == word: \n",
    "                ten_most.append((words[1].split(\"/\")[0], frequency))\n",
    "    if len(ten_most) == 0:\n",
    "        print(\"This word is not in our texts\")\n",
    "    else:\n",
    "        print(\"The ten most co-occuring words are: \\n\", heapq.nlargest(10,ten_most,key=lambda item:item[1]))"
   ]
  },
  {
   "cell_type": "code",
   "execution_count": 115,
   "metadata": {},
   "outputs": [
    {
     "name": "stdout",
     "output_type": "stream",
     "text": [
      "The ten most co-occuring words are: \n",
      " [('say', 868), ('beautiful', 409), ('would', 403), ('badoura', 354), ('go', 327), ('daughter', 325), ('say', 320), ('prince', 317), ('king', 316), ('king', 283)]\n"
     ]
    }
   ],
   "source": [
    "ten_most_cooccs(\"princess\")"
   ]
  },
  {
   "cell_type": "code",
   "execution_count": 52,
   "metadata": {},
   "outputs": [
    {
     "name": "stdout",
     "output_type": "stream",
     "text": [
      "The ten most co-occuring words are: \n",
      " [('ahmed', 1409), ('say', 1027), ('prince', 802), ('say', 723), ('ali', 684), ('houssain', 637), ('majnun', 630), ('camaralzaman', 562), ('son', 509), ('king', 390)]\n"
     ]
    }
   ],
   "source": [
    "ten_most_cooccs(\"prince\")"
   ]
  },
  {
   "cell_type": "code",
   "execution_count": 107,
   "metadata": {},
   "outputs": [
    {
     "name": "stdout",
     "output_type": "stream",
     "text": [
      "The ten most co-occuring words are: \n",
      " [('say', 1609), ('little', 710), ('go', 537), ('old', 457), ('come', 433), ('one', 421), ('heart', 414), ('would', 408), ('must', 373), ('take', 372)]\n"
     ]
    }
   ],
   "source": [
    "ten_most_cooccs(\"girl\")"
   ]
  },
  {
   "cell_type": "code",
   "execution_count": 86,
   "metadata": {},
   "outputs": [
    {
     "name": "stdout",
     "output_type": "stream",
     "text": [
      "The ten most co-occuring words are: \n",
      " [('old', 5623), ('say', 2764), ('little', 751), ('come', 709), ('woman', 666), ('house', 635), ('one', 609), ('would', 600), ('man', 579), ('go', 567)]\n"
     ]
    }
   ],
   "source": [
    "ten_most_cooccs(\"woman\")"
   ]
  },
  {
   "cell_type": "code",
   "execution_count": 87,
   "metadata": {},
   "outputs": [
    {
     "name": "stdout",
     "output_type": "stream",
     "text": [
      "The ten most co-occuring words are: \n",
      " [('say', 4629), ('old', 3800), ('one', 1238), ('come', 1193), ('go', 1086), ('ask', 1071), ('little', 1037), ('would', 997), ('go', 878), ('young', 848)]\n"
     ]
    }
   ],
   "source": [
    "ten_most_cooccs(\"man\")"
   ]
  },
  {
   "cell_type": "code",
   "execution_count": 54,
   "metadata": {},
   "outputs": [
    {
     "name": "stdout",
     "output_type": "stream",
     "text": [
      "The ten most co-occuring words are: \n",
      " [('say', 999), ('little', 529), ('man', 324), ('boy', 284), ('go', 278), ('however', 246), ('could', 232), ('king', 231), ('come', 230), ('see', 229)]\n"
     ]
    }
   ],
   "source": [
    "ten_most_cooccs(\"boy\")"
   ]
  },
  {
   "cell_type": "code",
   "execution_count": 55,
   "metadata": {},
   "outputs": [
    {
     "name": "stdout",
     "output_type": "stream",
     "text": [
      "The ten most co-occuring words are: \n",
      " [('say', 7044), ('son', 5108), ('daughter', 4938), ('king', 3382), ('come', 2484), ('go', 2344), ('would', 1658), ('great', 1580), ('take', 1557), ('go', 1503)]\n"
     ]
    }
   ],
   "source": [
    "ten_most_cooccs(\"king\")"
   ]
  },
  {
   "cell_type": "code",
   "execution_count": 56,
   "metadata": {},
   "outputs": [
    {
     "name": "stdout",
     "output_type": "stream",
     "text": [
      "The ten most co-occuring words are: \n",
      " [('king', 1227), ('say', 803), ('gulnare', 632), ('go', 479), ('child', 410), ('young', 397), ('mother', 397), ('one', 376), ('little', 339), ('queen', 338)]\n"
     ]
    }
   ],
   "source": [
    "ten_most_cooccs(\"queen\")"
   ]
  },
  {
   "cell_type": "markdown",
   "metadata": {},
   "source": [
    "These most co-occuring words do not seem to give away any bias."
   ]
  },
  {
   "cell_type": "markdown",
   "metadata": {},
   "source": [
    "Now we will create vectors by populating a matrix of a ppmi-weighted co-occurence. First we will have to weight the co-occurences."
   ]
  },
  {
   "cell_type": "code",
   "execution_count": 57,
   "metadata": {},
   "outputs": [],
   "source": [
    "#this funtion is taken from notebook 4 of this course\n",
    "\n",
    "from math import log\n",
    "\n",
    "def ppmi(o_11, r_1, c_1, n):\n",
    "    \"\"\"\n",
    "    Positive Pointwise Mutual Information (Church & Hanks, 1990)\n",
    "    \n",
    "    PMI is also available in NLTK:\n",
    "    from nltk.metrics import BigramAssocMeasures\n",
    "    print BigramAssocMeasures.pmi(8, (15828, 4675), 14307668)\n",
    "    \"\"\"\n",
    "    observed = o_11\n",
    "    expected = (r_1*c_1)/n \n",
    "    res = log(observed/expected,2)\n",
    "    return max(0, res)"
   ]
  },
  {
   "cell_type": "code",
   "execution_count": 58,
   "metadata": {},
   "outputs": [
    {
     "name": "stdout",
     "output_type": "stream",
     "text": [
      "[(('diddle/nn', 'dum/nn'), 21.041191100738835), (('dum/nn', 'diddle/nn'), 21.041191100738835), (('diddle/nn', 'diddle/nn'), 20.719263005851474), (('bargain/nns', 'christening-feast/nn'), 20.56725991240642), (('christening-feast/nn', 'bargain/nns'), 20.56725991240642), (('roast-meat/nn', 'drip/vb'), 20.56725991240642), (('birthday/nn', 'obi/nnp'), 20.56725991240642), (('obi/nnp', 'birthday/nn'), 20.56725991240642), (('jinricksha/nns', 'mode/nns'), 20.56725991240642), (('mode/nns', 'jinricksha/nns'), 20.56725991240642)]\n"
     ]
    }
   ],
   "source": [
    "ppmis_surface = Counter()\n",
    "\n",
    "N = sum(cooccs_surface.values())  # note that this is NOT the reduced dictionary\n",
    "\n",
    "for words, frequency in filtered_cooccs_surface.items():\n",
    "    ppmis_surface[words] = ppmi(frequency, words_frequencies[words[0]], words_frequencies[words[1]], N)\n",
    "    \n",
    "print(ppmis_surface.most_common(10))"
   ]
  },
  {
   "cell_type": "code",
   "execution_count": 59,
   "metadata": {},
   "outputs": [],
   "source": [
    "sorted_vectors = sorted(selected_noun_frequencies)\n",
    "vectors_indices = dict((v,i) for i,v in enumerate(sorted_vectors))\n",
    "contexts_indices = dict((v,i) for i,v in enumerate(sorted(filtered_cooc_frequencies)))"
   ]
  },
  {
   "cell_type": "code",
   "execution_count": 60,
   "metadata": {},
   "outputs": [],
   "source": [
    "# initialize the PPMI-Weighted matrix\n",
    "ppmiMat = np.zeros((len(vectors_indices), len(contexts_indices)))\n",
    "\n",
    "# populate the matrix\n",
    "for pair, weight in ppmis_surface.items():\n",
    "    ppmiMat[vectors_indices[pair[0]]][contexts_indices[pair[1]]] = weight"
   ]
  },
  {
   "cell_type": "markdown",
   "metadata": {},
   "source": [
    "Then we use sklear to create a cosine similarity matrix."
   ]
  },
  {
   "cell_type": "code",
   "execution_count": 61,
   "metadata": {},
   "outputs": [],
   "source": [
    "import sklearn\n",
    "\n",
    "ppmiSimMat = sklearn.metrics.pairwise.cosine_similarity(ppmiMat)"
   ]
  },
  {
   "cell_type": "markdown",
   "metadata": {},
   "source": [
    "Then we use the similarity matrix to look at the ten most similar words for some words."
   ]
  },
  {
   "cell_type": "code",
   "execution_count": 227,
   "metadata": {},
   "outputs": [],
   "source": [
    "k = 20\n",
    "target_idx = vectors_indices[\"female/nn\"]"
   ]
  },
  {
   "cell_type": "code",
   "execution_count": 228,
   "metadata": {},
   "outputs": [
    {
     "name": "stdout",
     "output_type": "stream",
     "text": [
      "according to the ppmi space:\n",
      "\n",
      "rheims/nnp 0.14104592356320317\n",
      "male/nn 0.1256714835647933\n",
      "wish/nn 0.12500375927687382\n",
      "cell/nn 0.11889884163889164\n",
      "feat/nns 0.11637419341030965\n",
      "fourth/nnp 0.11586543071954644\n",
      "lordling/nn 0.11488690766684218\n",
      "cardinal/nns 0.11087187997868286\n",
      "ally/nns 0.11084912592962004\n",
      "voyage/nnp 0.10979097603840061\n",
      "dread/nn 0.10970004159988965\n",
      "last/nnp 0.10954375173621697\n",
      "pleasure/nns 0.10912341006561802\n",
      "passage/nns 0.10885560153213986\n",
      "sneak/nn 0.10836537619249535\n",
      "rock-house/nn 0.1066576609597302\n",
      "lantern/nn 0.10639498790880643\n",
      "servant/nn 0.10594513994933645\n",
      "step/nns 0.10467557579833836\n",
      "chaupur/nn 0.10439696562574194\n"
     ]
    }
   ],
   "source": [
    "print(\"according to the ppmi space:\\n\")\n",
    "\n",
    "for idx in ppmiSimMat[target_idx,].argsort()[::-1][1:k+1]:\n",
    "    print(sorted_vectors[idx], ppmiSimMat[target_idx, idx])"
   ]
  },
  {
   "cell_type": "markdown",
   "metadata": {},
   "source": [
    "# Gensim model"
   ]
  },
  {
   "cell_type": "markdown",
   "metadata": {},
   "source": [
    "We will create a gensim Word2Vec model on our dataset in order to look at vector analogies. \n",
    "\n",
    "To train the gensim model we first need a list of sentences, which we will create in the same way as the list of words was created. "
   ]
  },
  {
   "cell_type": "code",
   "execution_count": 64,
   "metadata": {},
   "outputs": [],
   "source": [
    "#makes a list of sencentces \n",
    "story_sentences = []\n",
    "for sentence in story_list:\n",
    "    new_sentence = []\n",
    "    for token in sentence:\n",
    "        if \"-->\" in token:\n",
    "            split_token = token.split(\"-->\", 1)[1]\n",
    "            split_token = split_token.lower()[1:-1]\n",
    "            new_sentence.append(split_token)\n",
    "        else:\n",
    "            continue\n",
    "    story_sentences.append(new_sentence)"
   ]
  },
  {
   "cell_type": "code",
   "execution_count": 65,
   "metadata": {},
   "outputs": [
    {
     "data": {
      "text/plain": [
       "['nnp/nnp',\n",
       " '15/cd',\n",
       " 'hansel/nnp',\n",
       " 'and/cc',\n",
       " 'grethel/nnp',\n",
       " 'nnp/nnp',\n",
       " 'nnp/nnp',\n",
       " 'brothers/nnps',\n",
       " 'grimm/nnp',\n",
       " 'nnp/nnp']"
      ]
     },
     "execution_count": 65,
     "metadata": {},
     "output_type": "execute_result"
    }
   ],
   "source": [
    "story_sentences[0][:10]"
   ]
  },
  {
   "cell_type": "code",
   "execution_count": 66,
   "metadata": {},
   "outputs": [],
   "source": [
    "filtered_story_sentences=[]\n",
    "\n",
    "for sentence in story_sentences:\n",
    "    new_sentence = []\n",
    "    for item in sentence:\n",
    "        if item.startswith((\".\", \",\", \"/\", \":\", \";\", \"'\", \"`\", \"nnp\", \"?\", \"!\", \"-\", \"1\", \"2\"\\\n",
    "                       \"3\", \"4\", \"5\", \"6\", \"7\", \"8\", \"9\", \"0\")): \n",
    "            continue\n",
    "        elif item.endswith((\"cc\", \"in\", \"dt\")):\n",
    "            continue\n",
    "        else:\n",
    "            new_sentence.append(item.split(\"/\")[0])\n",
    "    filtered_story_sentences.append(new_sentence)"
   ]
  },
  {
   "cell_type": "code",
   "execution_count": 67,
   "metadata": {},
   "outputs": [
    {
     "data": {
      "text/plain": [
       "['hansel',\n",
       " 'grethel',\n",
       " 'brothers',\n",
       " 'grimm',\n",
       " 'hard',\n",
       " 'great',\n",
       " 'forest',\n",
       " 'dwell',\n",
       " 'poor',\n",
       " 'wood-cutter']"
      ]
     },
     "execution_count": 67,
     "metadata": {},
     "output_type": "execute_result"
    }
   ],
   "source": [
    "filtered_story_sentences[0][:10]"
   ]
  },
  {
   "cell_type": "markdown",
   "metadata": {},
   "source": [
    "Now that we have created a list with sentences, we train the gensim modle with the same kind of parameters as used before and standard parameters for the other ones."
   ]
  },
  {
   "cell_type": "code",
   "execution_count": 185,
   "metadata": {},
   "outputs": [],
   "source": [
    "import gensim.models\n",
    "\n",
    "# Using params from Word2Vec_FastText_Comparison\n",
    "params = {\n",
    "    'size': 100, # dimension of embeddings\n",
    "    'window': 5, # window -/+ before and after focus word\n",
    "    'iter': 5, # number of iterations over the corpus\n",
    "    'min_count': 20, # filter on words whose frequency is below this count\n",
    "    'sg': 0, \n",
    "    'negative': 5, \n",
    "    'workers': 4, \n",
    "    'alpha': 0.05 # initial learning rate \n",
    "}\n",
    "model = gensim.models.Word2Vec(sentences=filtered_story_sentences, **params)"
   ]
  },
  {
   "cell_type": "markdown",
   "metadata": {},
   "source": [
    "We look at the most similar words to prince and princess and see that this gives fairly expected results with the outliers being that \"prince\" has \"afflict\" in its similarity list and \"princess\" \"handsomest\"."
   ]
  },
  {
   "cell_type": "code",
   "execution_count": 69,
   "metadata": {},
   "outputs": [
    {
     "data": {
      "text/plain": [
       "[('punctually', 0.5013461112976074),\n",
       " ('princess', 0.4468032419681549),\n",
       " ('magician', 0.44122055172920227),\n",
       " ('daimio', 0.41534292697906494),\n",
       " ('caliph', 0.38558611273765564),\n",
       " ('raja', 0.38530433177948),\n",
       " ('majesty', 0.38215410709381104),\n",
       " ('indies', 0.38006576895713806),\n",
       " ('marzavan', 0.3777863085269928),\n",
       " ('alteration', 0.3746160864830017)]"
      ]
     },
     "execution_count": 69,
     "metadata": {},
     "output_type": "execute_result"
    }
   ],
   "source": [
    "model.wv.most_similar(\"prince\")"
   ]
  },
  {
   "cell_type": "code",
   "execution_count": 70,
   "metadata": {},
   "outputs": [
    {
     "data": {
      "text/plain": [
       "[('maimoune', 0.4703291356563568),\n",
       " ('prince', 0.4468032717704773),\n",
       " ('handsomest', 0.43287599086761475),\n",
       " ('she', 0.4089345932006836),\n",
       " ('maiden', 0.408431738615036),\n",
       " ('foster-daughter', 0.4064474403858185),\n",
       " ('persia', 0.4046914279460907),\n",
       " ('king', 0.3930133581161499),\n",
       " ('fairy', 0.39158132672309875),\n",
       " ('magician', 0.3914486765861511)]"
      ]
     },
     "execution_count": 70,
     "metadata": {},
     "output_type": "execute_result"
    }
   ],
   "source": [
    "model.wv.most_similar(\"princess\")"
   ]
  },
  {
   "cell_type": "code",
   "execution_count": 88,
   "metadata": {},
   "outputs": [
    {
     "data": {
      "text/plain": [
       "[('maiden', 0.5348146557807922),\n",
       " ('wood-cutter', 0.4907284080982208),\n",
       " ('man', 0.4245491325855255),\n",
       " ('hans', 0.3907076120376587),\n",
       " ('queen', 0.3873651921749115),\n",
       " ('donkey', 0.3762194514274597),\n",
       " ('she', 0.37559378147125244),\n",
       " ('princess', 0.3656061887741089),\n",
       " ('journeyman', 0.36034366488456726),\n",
       " ('broom-maker', 0.3591962158679962)]"
      ]
     },
     "execution_count": 88,
     "metadata": {},
     "output_type": "execute_result"
    }
   ],
   "source": [
    "model.wv.most_similar(\"girl\")"
   ]
  },
  {
   "cell_type": "code",
   "execution_count": 89,
   "metadata": {},
   "outputs": [
    {
     "data": {
      "text/plain": [
       "[('dwarf', 0.38885366916656494),\n",
       " ('child', 0.38712766766548157),\n",
       " ('sister', 0.376167356967926),\n",
       " ('countryman', 0.3610524833202362),\n",
       " ('princesses', 0.35262149572372437),\n",
       " ('woodcutter', 0.3442096710205078),\n",
       " ('playing', 0.3376888036727905),\n",
       " ('alternately', 0.3358610272407532),\n",
       " ('vise', 0.3304614722728729),\n",
       " ('people', 0.3187549412250519)]"
      ]
     },
     "execution_count": 89,
     "metadata": {},
     "output_type": "execute_result"
    }
   ],
   "source": [
    "model.wv.most_similar(\"boy\")"
   ]
  },
  {
   "cell_type": "code",
   "execution_count": 90,
   "metadata": {},
   "outputs": [
    {
     "data": {
      "text/plain": [
       "[('fellow', 0.5535942912101746),\n",
       " ('woman', 0.5223945379257202),\n",
       " ('sinner', 0.45145681500434875),\n",
       " ('folk', 0.4508248567581177),\n",
       " ('glutton', 0.4356769323348999),\n",
       " ('crone', 0.4329893887042999),\n",
       " ('foretold', 0.43104153871536255),\n",
       " ('abdallah', 0.42491552233695984),\n",
       " ('girl', 0.4245491325855255),\n",
       " ('sorceress', 0.41905954480171204)]"
      ]
     },
     "execution_count": 90,
     "metadata": {},
     "output_type": "execute_result"
    }
   ],
   "source": [
    "model.wv.most_similar(\"man\")"
   ]
  },
  {
   "cell_type": "code",
   "execution_count": 91,
   "metadata": {},
   "outputs": [
    {
     "data": {
      "text/plain": [
       "[('pedler-woman', 0.5535544157028198),\n",
       " ('hag', 0.5505192279815674),\n",
       " ('man', 0.5223945379257202),\n",
       " ('aldobrandin', 0.5164889097213745),\n",
       " ('rinkrank', 0.5104014873504639),\n",
       " ('abdallah', 0.5011659860610962),\n",
       " ('sinner', 0.43779993057250977),\n",
       " ('crone', 0.43116113543510437),\n",
       " ('bedgown', 0.42852768301963806),\n",
       " ('goody', 0.4178634583950043)]"
      ]
     },
     "execution_count": 91,
     "metadata": {},
     "output_type": "execute_result"
    }
   ],
   "source": [
    "model.wv.most_similar(\"woman\")"
   ]
  },
  {
   "cell_type": "code",
   "execution_count": 157,
   "metadata": {},
   "outputs": [
    {
     "data": {
      "text/plain": [
       "[('maiden', 0.4660082757472992),\n",
       " ('she', 0.4331996440887451),\n",
       " ('persia', 0.41346701979637146),\n",
       " ('king', 0.41217413544654846),\n",
       " ('girl', 0.3873651921749115),\n",
       " ('dissatisfy', 0.38687947392463684),\n",
       " ('saleh', 0.38039112091064453),\n",
       " ('princess', 0.3774447441101074),\n",
       " ('beder', 0.36289748549461365),\n",
       " ('nurse', 0.3616420030593872)]"
      ]
     },
     "execution_count": 157,
     "metadata": {},
     "output_type": "execute_result"
    }
   ],
   "source": [
    "model.wv.most_similar(\"queen\")"
   ]
  },
  {
   "cell_type": "code",
   "execution_count": 158,
   "metadata": {},
   "outputs": [
    {
     "data": {
      "text/plain": [
       "[('vizier', 0.4753704369068146),\n",
       " ('eblis', 0.4717508554458618),\n",
       " ('raja', 0.46801912784576416),\n",
       " ('he', 0.4437236487865448),\n",
       " ('miller', 0.4364866614341736),\n",
       " ('adopt', 0.41838616132736206),\n",
       " ('soothsayer', 0.41391265392303467),\n",
       " ('queen', 0.41217413544654846),\n",
       " ('reginer', 0.403903603553772),\n",
       " ('sultan', 0.400412917137146)]"
      ]
     },
     "execution_count": 158,
     "metadata": {},
     "output_type": "execute_result"
    }
   ],
   "source": [
    "model.wv.most_similar(\"king\")"
   ]
  },
  {
   "cell_type": "markdown",
   "metadata": {},
   "source": [
    "Now we copy the analogy function from notebook 5 and try some vector analogies with typical male/female words and stereotypes."
   ]
  },
  {
   "cell_type": "code",
   "execution_count": 71,
   "metadata": {},
   "outputs": [],
   "source": [
    "#This function is taken from notebook 5\n",
    "\n",
    "def analogy(x1, x2, x3):\n",
    "    result = model.wv.most_similar(positive=[x1, x2], negative=[x3])\n",
    "    return result[0][0]"
   ]
  },
  {
   "cell_type": "code",
   "execution_count": 167,
   "metadata": {},
   "outputs": [
    {
     "data": {
      "text/plain": [
       "'she'"
      ]
     },
     "execution_count": 167,
     "metadata": {},
     "output_type": "execute_result"
    }
   ],
   "source": [
    "analogy(\"king\",\"woman\",\"man\")"
   ]
  },
  {
   "cell_type": "code",
   "execution_count": 182,
   "metadata": {},
   "outputs": [
    {
     "data": {
      "text/plain": [
       "'dependent'"
      ]
     },
     "execution_count": 182,
     "metadata": {},
     "output_type": "execute_result"
    }
   ],
   "source": [
    "analogy(\"brave\",\"sister\",\"brother\")"
   ]
  },
  {
   "cell_type": "code",
   "execution_count": 180,
   "metadata": {},
   "outputs": [
    {
     "data": {
      "text/plain": [
       "'gray-haired'"
      ]
     },
     "execution_count": 180,
     "metadata": {},
     "output_type": "execute_result"
    }
   ],
   "source": [
    "analogy(\"brave\",\"woman\",\"man\")"
   ]
  },
  {
   "cell_type": "code",
   "execution_count": 163,
   "metadata": {},
   "outputs": [
    {
     "data": {
      "text/plain": [
       "'sumptuous'"
      ]
     },
     "execution_count": 163,
     "metadata": {},
     "output_type": "execute_result"
    }
   ],
   "source": [
    "analogy(\"beautiful\",\"boy\",\"girl\")"
   ]
  },
  {
   "cell_type": "code",
   "execution_count": 179,
   "metadata": {},
   "outputs": [
    {
     "data": {
      "text/plain": [
       "'celebrate'"
      ]
     },
     "execution_count": 179,
     "metadata": {},
     "output_type": "execute_result"
    }
   ],
   "source": [
    "analogy(\"dependent\",\"father\",\"mother\")"
   ]
  },
  {
   "cell_type": "code",
   "execution_count": 161,
   "metadata": {},
   "outputs": [
    {
     "data": {
      "text/plain": [
       "'poetry'"
      ]
     },
     "execution_count": 161,
     "metadata": {},
     "output_type": "execute_result"
    }
   ],
   "source": [
    "analogy(\"kind\",\"man\",\"woman\")"
   ]
  },
  {
   "cell_type": "code",
   "execution_count": 159,
   "metadata": {},
   "outputs": [
    {
     "data": {
      "text/plain": [
       "'good-natured'"
      ]
     },
     "execution_count": 159,
     "metadata": {},
     "output_type": "execute_result"
    }
   ],
   "source": [
    "analogy(\"kind\",\"king\",\"queen\")"
   ]
  },
  {
   "cell_type": "code",
   "execution_count": 172,
   "metadata": {},
   "outputs": [
    {
     "data": {
      "text/plain": [
       "'wren'"
      ]
     },
     "execution_count": 172,
     "metadata": {},
     "output_type": "execute_result"
    }
   ],
   "source": [
    "analogy(\"man\", \"king\", \"woman\")"
   ]
  },
  {
   "cell_type": "markdown",
   "metadata": {},
   "source": [
    "We can see that some of these analogies are quite similar, such as a kind queen is like a good natured king. \n",
    "\n",
    "However some show quite great differences, like a beautiful girl is like a proud boy or a brave man is like a popular woman."
   ]
  },
  {
   "cell_type": "markdown",
   "metadata": {},
   "source": [
    "Next we copied the function from lab 5 that creates a pca scatterplot and applied it on some adjectives and gendered nouns."
   ]
  },
  {
   "cell_type": "code",
   "execution_count": 183,
   "metadata": {},
   "outputs": [],
   "source": [
    "#This function is copied from lab 5\n",
    "\n",
    "from sklearn.decomposition import PCA\n",
    "\n",
    "def display_pca_scatterplot(model, words=None, sample=0):\n",
    "    if words == None:\n",
    "        if sample > 0:\n",
    "            words = np.random.choice(list(model.vocab.keys()), sample)\n",
    "        else:\n",
    "            words = [ word for word in model.vocab ]\n",
    "        \n",
    "    word_vectors = np.array([model[w] for w in words])\n",
    "\n",
    "    # do PCA on the selected embeddings\n",
    "    twodim = PCA().fit_transform(word_vectors)[:,:2]\n",
    "    \n",
    "    plt.figure(figsize=(6,6))\n",
    "    plt.scatter(twodim[:,0], twodim[:,1], edgecolors='k', c='r')\n",
    "    for word, (x,y) in zip(words, twodim):\n",
    "        plt.text(x+0.05, y+0.05, word)"
   ]
  },
  {
   "cell_type": "code",
   "execution_count": 184,
   "metadata": {},
   "outputs": [
    {
     "data": {
      "image/png": "[encoded data removed]",
      "text/plain": [
       "<Figure size 432x432 with 1 Axes>"
      ]
     },
     "metadata": {},
     "output_type": "display_data"
    }
   ],
   "source": [
    "display_pca_scatterplot(model, \n",
    "                        ['prince', 'princess', 'king', 'queen', 'man', 'woman', 'girl', 'boy',\n",
    "                         'father', 'mother', 'brother', 'sister', 'brave', 'kind', 'beautiful',\n",
    "                         'strong', 'work', 'sing', 'smart', 'pretty', 'helpless', 'maiden',\n",
    "                         'quick', 'happy', 'witch', 'jump', 'run', 'fight', 'smile', 'help', 'flee'])\n",
    "\n",
    "plt.savefig(\"PCA_ScatterPlot\", bbox_inches = 'tight')"
   ]
  },
  {
   "cell_type": "code",
   "execution_count": null,
   "metadata": {},
   "outputs": [],
   "source": []
  }
 ],
 "metadata": {
  "kernelspec": {
   "display_name": "Python 3",
   "language": "python",
   "name": "python3"
  },
  "language_info": {
   "codemirror_mode": {
    "name": "ipython",
    "version": 3
   },
   "file_extension": ".py",
   "mimetype": "text/x-python",
   "name": "python",
   "nbconvert_exporter": "python",
   "pygments_lexer": "ipython3",
   "version": "3.8.5"
  }
 },
 "nbformat": 4,
 "nbformat_minor": 2
}
